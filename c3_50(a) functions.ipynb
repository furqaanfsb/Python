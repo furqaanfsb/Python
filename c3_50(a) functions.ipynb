{
 "cells": [
  {
   "cell_type": "code",
   "execution_count": 1,
   "id": "ba6bbc46-ff81-44df-9f8d-682b45198371",
   "metadata": {},
   "outputs": [],
   "source": [
    "#####functions in python\n",
    "def test():\n",
    "    pass ## it does nothing at all"
   ]
  },
  {
   "cell_type": "code",
   "execution_count": 2,
   "id": "4eac5eb9-d81c-42f5-a3ba-2d9a112a1b27",
   "metadata": {},
   "outputs": [
    {
     "data": {
      "text/plain": [
       "NoneType"
      ]
     },
     "execution_count": 2,
     "metadata": {},
     "output_type": "execute_result"
    }
   ],
   "source": [
    "type(test())"
   ]
  },
  {
   "cell_type": "code",
   "execution_count": 3,
   "id": "51192084-8cb7-4817-832f-550fdf915cdf",
   "metadata": {},
   "outputs": [
    {
     "ename": "IndentationError",
     "evalue": "expected an indented block (3866855815.py, line 2)",
     "output_type": "error",
     "traceback": [
      "\u001b[1;36m  File \u001b[1;32m\"C:\\Users\\furqa\\AppData\\Local\\Temp\\ipykernel_14796\\3866855815.py\"\u001b[1;36m, line \u001b[1;32m2\u001b[0m\n\u001b[1;33m    \u001b[0m\n\u001b[1;37m    ^\u001b[0m\n\u001b[1;31mIndentationError\u001b[0m\u001b[1;31m:\u001b[0m expected an indented block\n"
     ]
    }
   ],
   "source": [
    "def test(): ## mandatory function should return something else give pass otherwise we will get an error\n",
    "    "
   ]
  },
  {
   "cell_type": "code",
   "execution_count": null,
   "id": "9e1ccece-9ed8-4333-bc06-30716f1de492",
   "metadata": {},
   "outputs": [],
   "source": [
    "def add():\n",
    "    a = 1\n",
    "    b = 2\n",
    "    print(a+b)"
   ]
  },
  {
   "cell_type": "code",
   "execution_count": null,
   "id": "f04233e4-89ca-4559-a3ce-a158ac22dd06",
   "metadata": {},
   "outputs": [],
   "source": [
    "add()"
   ]
  },
  {
   "cell_type": "code",
   "execution_count": null,
   "id": "d406a13a-a722-4346-b247-7b056fddd627",
   "metadata": {},
   "outputs": [],
   "source": [
    "def add(a,b):\n",
    "    print(a+b)"
   ]
  },
  {
   "cell_type": "code",
   "execution_count": null,
   "id": "da528643-123b-443f-ad6f-5b8e899398de",
   "metadata": {},
   "outputs": [],
   "source": [
    "add(2,3)"
   ]
  },
  {
   "cell_type": "code",
   "execution_count": null,
   "id": "128331d5-4b17-4649-a8aa-839c47069869",
   "metadata": {},
   "outputs": [],
   "source": [
    "add(2.5,3)"
   ]
  },
  {
   "cell_type": "code",
   "execution_count": null,
   "id": "9de5ed9d-71d1-451a-b993-f606061cd0b6",
   "metadata": {},
   "outputs": [],
   "source": [
    "add(2.5,3.567)"
   ]
  },
  {
   "cell_type": "code",
   "execution_count": null,
   "id": "16228be0-d2b5-489d-b907-87af39a12b17",
   "metadata": {},
   "outputs": [],
   "source": [
    "add(2,\"anand\")  # error cannot add int and str,need type conversion"
   ]
  },
  {
   "cell_type": "code",
   "execution_count": null,
   "id": "2565d465-a6b3-4a68-816f-8bebc7a7a642",
   "metadata": {},
   "outputs": [],
   "source": [
    "\"2\" + \"anand\""
   ]
  },
  {
   "cell_type": "code",
   "execution_count": null,
   "id": "6ca9340b-5ad5-4ca8-9da4-d60946c91517",
   "metadata": {},
   "outputs": [],
   "source": [
    "add(\"2\",\"anand\")"
   ]
  },
  {
   "cell_type": "code",
   "execution_count": null,
   "id": "5b9bb787-ff44-484d-8402-baddccd13c80",
   "metadata": {},
   "outputs": [],
   "source": [
    "type(print(\"xyz\"))"
   ]
  },
  {
   "cell_type": "code",
   "execution_count": null,
   "id": "fe86eea9-6435-4ae6-861d-24ab8a3785df",
   "metadata": {},
   "outputs": [],
   "source": [
    "def add(a,b):\n",
    "    return str(a)+str(b)"
   ]
  },
  {
   "cell_type": "code",
   "execution_count": null,
   "id": "112683b7-8211-496e-96c2-c206f3bafbbb",
   "metadata": {},
   "outputs": [],
   "source": [
    "add(3,4)"
   ]
  },
  {
   "cell_type": "code",
   "execution_count": null,
   "id": "a11b8bc1-4d1e-4ee2-8a2d-e7126ead112a",
   "metadata": {},
   "outputs": [],
   "source": [
    "add(3,\"Virat Kohli\")"
   ]
  },
  {
   "cell_type": "code",
   "execution_count": null,
   "id": "e1c25df0-4833-4710-bee3-c01303f3260c",
   "metadata": {},
   "outputs": [],
   "source": [
    "def add(a,b):\n",
    "    a = 1\n",
    "    b = 2\n",
    "    print(a+b)"
   ]
  },
  {
   "cell_type": "code",
   "execution_count": null,
   "id": "ad62dd5d-dde0-4993-ac64-bfd7990a2f73",
   "metadata": {},
   "outputs": [],
   "source": [
    "add(5,6)"
   ]
  },
  {
   "cell_type": "code",
   "execution_count": null,
   "id": "6f862da1-e808-42de-923d-c85addfe0c1b",
   "metadata": {},
   "outputs": [],
   "source": [
    "def add(a,b):\n",
    "    print(a+b)"
   ]
  },
  {
   "cell_type": "code",
   "execution_count": null,
   "id": "8ca262cc-6845-4886-8047-11a71e1dca52",
   "metadata": {},
   "outputs": [],
   "source": [
    "add(5,6)"
   ]
  },
  {
   "cell_type": "code",
   "execution_count": null,
   "id": "80786a86-55dd-4dcf-b3b3-af6297a2d4d9",
   "metadata": {},
   "outputs": [],
   "source": [
    "def add(a,b):\n",
    "    a=1\n",
    "    b=2\n",
    "    c=3\n",
    "    return a+b+c"
   ]
  },
  {
   "cell_type": "code",
   "execution_count": null,
   "id": "e7c1142d-456d-42c5-b13d-5088f622d844",
   "metadata": {},
   "outputs": [],
   "source": [
    "c=10\n",
    "add(5,6) + c"
   ]
  },
  {
   "cell_type": "code",
   "execution_count": null,
   "id": "276aa4cf-d6ff-45dc-8788-21c04413d876",
   "metadata": {},
   "outputs": [],
   "source": [
    "c=10\n",
    "add(5,6) + c"
   ]
  },
  {
   "cell_type": "code",
   "execution_count": null,
   "id": "a2e16ad1-e938-4942-9a40-10a8e9e518ed",
   "metadata": {},
   "outputs": [],
   "source": [
    "def add(a,b,c):\n",
    "    a=1\n",
    "    b=2\n",
    "    c=3\n",
    "    return a+b+c,a+b,a+b*c ##multiple return statement is allowed"
   ]
  },
  {
   "cell_type": "code",
   "execution_count": null,
   "id": "b544c2c9-bbc2-4be5-b2af-b7962059fcf4",
   "metadata": {},
   "outputs": [],
   "source": [
    "add(2,3) #error, 1 argument misiing"
   ]
  },
  {
   "cell_type": "code",
   "execution_count": null,
   "id": "e68c5287-339b-4691-840c-40f86abd16c2",
   "metadata": {},
   "outputs": [],
   "source": [
    " add(1,3)"
   ]
  },
  {
   "cell_type": "code",
   "execution_count": null,
   "id": "e9c641be-df6d-49cd-912a-756d3604af49",
   "metadata": {},
   "outputs": [],
   "source": [
    "type(add(1,3))"
   ]
  },
  {
   "cell_type": "code",
   "execution_count": null,
   "id": "c5404c9e-485b-4d2a-a40f-a50281326c90",
   "metadata": {},
   "outputs": [],
   "source": [
    "add(1,2,3)"
   ]
  },
  {
   "cell_type": "code",
   "execution_count": null,
   "id": "ebd1ebc4-45b2-4a04-ae66-4951864b78c9",
   "metadata": {},
   "outputs": [],
   "source": [
    "add(6,5)+c "
   ]
  },
  {
   "cell_type": "code",
   "execution_count": null,
   "id": "5ec1e0de-222b-4f85-8b19-c4ec05a2b22f",
   "metadata": {},
   "outputs": [],
   "source": [
    "c=5\n",
    "c=1\n",
    "def add(a,b):\n",
    "    a=1\n",
    "    b=2\n",
    "    c=4\n",
    "    return a+b+c\n"
   ]
  },
  {
   "cell_type": "code",
   "execution_count": null,
   "id": "fc74e288-a6c2-4846-bb72-32dc6979735e",
   "metadata": {},
   "outputs": [],
   "source": [
    "add(2,3)"
   ]
  },
  {
   "cell_type": "code",
   "execution_count": null,
   "id": "8dc6eeab-8de8-4716-a89e-961b82368c08",
   "metadata": {},
   "outputs": [],
   "source": [
    "add() #error,need to give 2 parameters as defined in ftn"
   ]
  },
  {
   "cell_type": "code",
   "execution_count": null,
   "id": "ff9fae03-8cde-46e5-8370-ee17b6de3bff",
   "metadata": {},
   "outputs": [],
   "source": [
    "def my_func():\n",
    "\tx = 10\n",
    "\tprint(\"Value inside function:\",x)\n",
    "\n",
    "x = 20\n",
    "my_func()\n",
    "print(\"Value outside function:\",x)\n"
   ]
  },
  {
   "cell_type": "code",
   "execution_count": null,
   "id": "33f47519-913c-4936-8554-7b4a936389ce",
   "metadata": {},
   "outputs": [],
   "source": [
    "def abc(a,b,c):\n",
    "    return a+b+c, a*b*c, a+b*c "
   ]
  },
  {
   "cell_type": "code",
   "execution_count": null,
   "id": "3167561f-f212-4cac-81e3-68da3a32ff20",
   "metadata": {},
   "outputs": [],
   "source": [
    "abc(2,3,4)"
   ]
  },
  {
   "cell_type": "code",
   "execution_count": 4,
   "id": "2604b3fe-63ba-422e-a5b2-ffbd9d5a23c4",
   "metadata": {},
   "outputs": [],
   "source": [
    "def test():\n",
    "    return \"Sudhanshu\" ,[4,5,6,7],{'a':5,'b':6}"
   ]
  },
  {
   "cell_type": "code",
   "execution_count": 5,
   "id": "25be08ae-6c7a-42a0-b54d-5426fd08fe41",
   "metadata": {},
   "outputs": [
    {
     "data": {
      "text/plain": [
       "('Sudhanshu', [4, 5, 6, 7], {'a': 5, 'b': 6})"
      ]
     },
     "execution_count": 5,
     "metadata": {},
     "output_type": "execute_result"
    }
   ],
   "source": [
    "test()"
   ]
  },
  {
   "cell_type": "code",
   "execution_count": 6,
   "id": "ac74be0e-773b-4416-8e65-e3cc9fcbd6be",
   "metadata": {},
   "outputs": [
    {
     "data": {
      "text/plain": [
       "4"
      ]
     },
     "execution_count": 6,
     "metadata": {},
     "output_type": "execute_result"
    }
   ],
   "source": [
    "int(4.567)"
   ]
  },
  {
   "cell_type": "code",
   "execution_count": 7,
   "id": "638d15c5-80c4-4169-9fec-ad12ee65928a",
   "metadata": {},
   "outputs": [
    {
     "data": {
      "text/plain": [
       "3.0"
      ]
     },
     "execution_count": 7,
     "metadata": {},
     "output_type": "execute_result"
    }
   ],
   "source": [
    "float(3)"
   ]
  },
  {
   "cell_type": "code",
   "execution_count": 8,
   "id": "74a517ca-3a25-4c89-8440-2a3aa845c13f",
   "metadata": {},
   "outputs": [
    {
     "data": {
      "text/plain": [
       "'3'"
      ]
     },
     "execution_count": 8,
     "metadata": {},
     "output_type": "execute_result"
    }
   ],
   "source": [
    "str(3)"
   ]
  },
  {
   "cell_type": "code",
   "execution_count": 9,
   "id": "ef737e8b-4b23-4975-bb02-70d7cfd1da10",
   "metadata": {},
   "outputs": [],
   "source": [
    "### create a list of all the employess with different name say 5 (from user using input)\n",
    "### create a uyser defined function which returns the largest member(whoese length is more) from a list"
   ]
  },
  {
   "cell_type": "code",
   "execution_count": 10,
   "id": "cbb3b80a-fc8e-44c6-968e-2ced9d3240fd",
   "metadata": {},
   "outputs": [],
   "source": [
    "def add(a,b,c=2):\n",
    "    c = 1\n",
    "    return a+b+c"
   ]
  },
  {
   "cell_type": "code",
   "execution_count": 11,
   "id": "844fb765-2595-4c44-aed0-dde92b3bebf6",
   "metadata": {},
   "outputs": [
    {
     "data": {
      "text/plain": [
       "6"
      ]
     },
     "execution_count": 11,
     "metadata": {},
     "output_type": "execute_result"
    }
   ],
   "source": [
    "add(2,3)"
   ]
  },
  {
   "cell_type": "code",
   "execution_count": 12,
   "id": "d9ff524f-010e-42b3-bd98-5c50e25d1f2d",
   "metadata": {},
   "outputs": [
    {
     "data": {
      "text/plain": [
       "6"
      ]
     },
     "execution_count": 12,
     "metadata": {},
     "output_type": "execute_result"
    }
   ],
   "source": [
    "add(2,3,4)"
   ]
  },
  {
   "cell_type": "code",
   "execution_count": 13,
   "id": "6ce4aea1-4d5b-4013-a608-58494dc418d6",
   "metadata": {},
   "outputs": [
    {
     "data": {
      "text/plain": [
       "6"
      ]
     },
     "execution_count": 13,
     "metadata": {},
     "output_type": "execute_result"
    }
   ],
   "source": [
    "add(2,3,4)"
   ]
  },
  {
   "cell_type": "code",
   "execution_count": 14,
   "id": "7ab1f01b-fa97-412e-bdf1-a0e7c95b07e4",
   "metadata": {},
   "outputs": [],
   "source": [
    "test_list = ['anand', 'harsh', 'manisha', 'aishwarya', 'hanuman']"
   ]
  },
  {
   "cell_type": "code",
   "execution_count": 15,
   "id": "9c19a3e4-121b-48d9-90e3-087441f7c92a",
   "metadata": {},
   "outputs": [
    {
     "data": {
      "text/plain": [
       "['anand', 'harsh', 'manisha', 'aishwarya', 'hanuman']"
      ]
     },
     "execution_count": 15,
     "metadata": {},
     "output_type": "execute_result"
    }
   ],
   "source": [
    "test_list"
   ]
  },
  {
   "cell_type": "code",
   "execution_count": 16,
   "id": "2d7d1534-1f34-4c28-8699-b91c94442266",
   "metadata": {},
   "outputs": [
    {
     "name": "stdout",
     "output_type": "stream",
     "text": [
      "Maximum length string is : aishwarya\n"
     ]
    }
   ],
   "source": [
    "max_len = 1\n",
    "for ele in test_list:\n",
    "    if len(ele) > max_len:\n",
    "        max_len = len(ele)\n",
    "        res = ele\n",
    "\n",
    "print(\"Maximum length string is : \" + res)"
   ]
  },
  {
   "cell_type": "code",
   "execution_count": 17,
   "id": "0fe4b764-d812-426f-ae43-7c5607adf21f",
   "metadata": {},
   "outputs": [],
   "source": [
    "def biglen():\n",
    "    li=[]\n",
    "    res=0\n",
    "    for i in range(5):\n",
    "        li.append(input('enter a name: '))\n",
    "        if len(li[i])>res:\n",
    "            res=len(li[i])\n",
    "            temp=li[i]\n",
    "    return temp"
   ]
  },
  {
   "cell_type": "code",
   "execution_count": 18,
   "id": "6d6ef0a8-3c84-43ca-b1e9-c93f092be326",
   "metadata": {},
   "outputs": [
    {
     "name": "stdout",
     "output_type": "stream",
     "text": [
      "enter a name: furqaan\n",
      "enter a name: ahmad\n",
      "enter a name: jazu\n",
      "enter a name: eleza\n",
      "enter a name: ehal\n"
     ]
    },
    {
     "data": {
      "text/plain": [
       "'furqaan'"
      ]
     },
     "execution_count": 18,
     "metadata": {},
     "output_type": "execute_result"
    }
   ],
   "source": [
    "biglen()"
   ]
  },
  {
   "cell_type": "code",
   "execution_count": 22,
   "id": "29d91158-7bf8-4c19-b20f-d9059676bb2a",
   "metadata": {},
   "outputs": [],
   "source": [
    "emp_list = []\n",
    "def emp_list_func():\n",
    "    for i in range(5):\n",
    "        emp_name = input(\"Enter Employee Name \")\n",
    "        test_list.append(emp_name)"
   ]
  },
  {
   "cell_type": "code",
   "execution_count": 23,
   "id": "d0775c9e-77a1-4f48-9ad1-6a52afef18c0",
   "metadata": {},
   "outputs": [
    {
     "name": "stdout",
     "output_type": "stream",
     "text": [
      "Enter Employee Name fsb\n",
      "Enter Employee Name ahamd\n",
      "Enter Employee Name burhan\n",
      "Enter Employee Name jazlan\n",
      "Enter Employee Name ubaid\n"
     ]
    }
   ],
   "source": [
    "emp_list_func()"
   ]
  },
  {
   "cell_type": "code",
   "execution_count": null,
   "id": "0906ba3f-ca4b-45b8-a7de-59182b0313c3",
   "metadata": {},
   "outputs": [],
   "source": [
    "#########LAMBDA FUNCTION ############################################"
   ]
  },
  {
   "cell_type": "code",
   "execution_count": null,
   "id": "fd1ca596-75a3-4eb4-8f41-888874289860",
   "metadata": {},
   "outputs": [],
   "source": [
    "#### its a one line function which can take any number of arguments but only one expression,which is evaluated and returned\n",
    "### its an anonoymous function i.e without a name\n",
    "### lambda kleyword is used to define it\n",
    "## no def keyword is used\n",
    "## one is free to use lambda funcctions wherever funcxtions object are required\n",
    "## You need to keep in your knowledge that lambda function are syntactically restricted to a single expression\n",
    "## the lambda operator => separates the input parameters on the left side from the lambda body on the right side"
   ]
  },
  {
   "cell_type": "code",
   "execution_count": 24,
   "id": "03f47853-60be-4b64-8a92-11aa2cf207af",
   "metadata": {},
   "outputs": [],
   "source": [
    "z = lambda a,b,c:a*b/c"
   ]
  },
  {
   "cell_type": "code",
   "execution_count": 25,
   "id": "af5e2e86-cb2c-4550-978c-cd7bdc3dcc07",
   "metadata": {},
   "outputs": [
    {
     "data": {
      "text/plain": [
       "24.0"
      ]
     },
     "execution_count": 25,
     "metadata": {},
     "output_type": "execute_result"
    }
   ],
   "source": [
    "z(8,9,3)"
   ]
  },
  {
   "cell_type": "code",
   "execution_count": 26,
   "id": "f4157773-24bb-495f-8515-40e9126510fb",
   "metadata": {},
   "outputs": [
    {
     "ename": "TypeError",
     "evalue": "<lambda>() missing 1 required positional argument: 'c'",
     "output_type": "error",
     "traceback": [
      "\u001b[1;31m---------------------------------------------------------------------------\u001b[0m",
      "\u001b[1;31mTypeError\u001b[0m                                 Traceback (most recent call last)",
      "\u001b[1;32m~\\AppData\\Local\\Temp\\ipykernel_14796\\3239207005.py\u001b[0m in \u001b[0;36m<module>\u001b[1;34m\u001b[0m\n\u001b[1;32m----> 1\u001b[1;33m \u001b[0mz\u001b[0m\u001b[1;33m(\u001b[0m\u001b[1;36m8\u001b[0m\u001b[1;33m,\u001b[0m\u001b[1;36m9\u001b[0m\u001b[1;33m)\u001b[0m\u001b[1;33m\u001b[0m\u001b[1;33m\u001b[0m\u001b[0m\n\u001b[0m",
      "\u001b[1;31mTypeError\u001b[0m: <lambda>() missing 1 required positional argument: 'c'"
     ]
    }
   ],
   "source": [
    "z(8,9) #error passed only 2 arguments"
   ]
  },
  {
   "cell_type": "code",
   "execution_count": 27,
   "id": "fdad431e-2fc3-4182-87b2-8b01db2515a5",
   "metadata": {},
   "outputs": [],
   "source": [
    "cube = lambda x : x**3"
   ]
  },
  {
   "cell_type": "code",
   "execution_count": 28,
   "id": "a51daeb3-57b1-438f-b8b5-feb8284b15b6",
   "metadata": {},
   "outputs": [
    {
     "data": {
      "text/plain": [
       "343"
      ]
     },
     "execution_count": 28,
     "metadata": {},
     "output_type": "execute_result"
    }
   ],
   "source": [
    "cube(7)"
   ]
  },
  {
   "cell_type": "code",
   "execution_count": 29,
   "id": "b36dc3fa-3cc0-410d-a8f6-b0259f086afb",
   "metadata": {},
   "outputs": [],
   "source": [
    "### craete an empty list\n",
    "## ask the user 5 times to input any number \n",
    "## use lambda function to test for odd and even and pass that number4 to another list calling odd /even"
   ]
  },
  {
   "cell_type": "code",
   "execution_count": 30,
   "id": "7002142d-dd68-40db-a8d2-d94dda2f041d",
   "metadata": {},
   "outputs": [
    {
     "ename": "SyntaxError",
     "evalue": "invalid syntax (1296789662.py, line 1)",
     "output_type": "error",
     "traceback": [
      "\u001b[1;36m  File \u001b[1;32m\"C:\\Users\\furqa\\AppData\\Local\\Temp\\ipykernel_14796\\1296789662.py\"\u001b[1;36m, line \u001b[1;32m1\u001b[0m\n\u001b[1;33m    Check_No= lambda mylist[i]: if mylist[i]%2==0 print(\"Even\") else (\"Odd\")\u001b[0m\n\u001b[1;37m                           ^\u001b[0m\n\u001b[1;31mSyntaxError\u001b[0m\u001b[1;31m:\u001b[0m invalid syntax\n"
     ]
    }
   ],
   "source": [
    "Check_No= lambda mylist[i]: if mylist[i]%2==0 print(\"Even\") else (\"Odd\")"
   ]
  },
  {
   "cell_type": "code",
   "execution_count": 31,
   "id": "a2dc28c1-5842-4ff6-a879-10231e8da453",
   "metadata": {},
   "outputs": [
    {
     "name": "stdout",
     "output_type": "stream",
     "text": [
      "Enter a number >> 22\n",
      "Even Number\n"
     ]
    }
   ],
   "source": [
    "number = int(input(\"Enter a number >> \"))\n",
    "odd_even = lambda : \"Even Number\" if number % 2 == 0 else \"Odd Number\"\n",
    "print(odd_even())"
   ]
  },
  {
   "cell_type": "code",
   "execution_count": 32,
   "id": "4a3da823-7dd4-4224-aa13-37275ee93405",
   "metadata": {},
   "outputs": [],
   "source": [
    "################################filter function##########################################"
   ]
  },
  {
   "cell_type": "code",
   "execution_count": 33,
   "id": "decf446d-f3b4-4b0f-a937-60e67cb01560",
   "metadata": {},
   "outputs": [],
   "source": [
    "list_test = (4,5,6,7,8,6,7,8,8)"
   ]
  },
  {
   "cell_type": "code",
   "execution_count": 34,
   "id": "cfba3ac7-9af2-45df-a891-196ab5c9d658",
   "metadata": {},
   "outputs": [],
   "source": [
    "a = list(filter(lambda x:x%2==0,list_test))\n",
    "b = list(filter(lambda x:x%2!=0,list_test))"
   ]
  },
  {
   "cell_type": "code",
   "execution_count": 35,
   "id": "b1547f5f-91fe-4397-8a54-4167c4b9682b",
   "metadata": {},
   "outputs": [
    {
     "data": {
      "text/plain": [
       "([4, 6, 8, 6, 8, 8], [5, 7, 7])"
      ]
     },
     "execution_count": 35,
     "metadata": {},
     "output_type": "execute_result"
    }
   ],
   "source": [
    "a,b"
   ]
  },
  {
   "cell_type": "code",
   "execution_count": 36,
   "id": "39522d7f-21de-4dfa-b341-2853dd4ddcef",
   "metadata": {},
   "outputs": [],
   "source": [
    "def even_check(n):\n",
    "    if n%2==0:\n",
    "        return True"
   ]
  },
  {
   "cell_type": "code",
   "execution_count": 37,
   "id": "13073c4b-b01f-42a3-a5ff-6bd348260d68",
   "metadata": {},
   "outputs": [
    {
     "data": {
      "text/plain": [
       "[4, 6, 8, 6, 8, 8]"
      ]
     },
     "execution_count": 37,
     "metadata": {},
     "output_type": "execute_result"
    }
   ],
   "source": [
    "list(filter(even_check,list_test))"
   ]
  },
  {
   "cell_type": "code",
   "execution_count": 38,
   "id": "446c7880-b3af-4e97-bc94-f3d879e34439",
   "metadata": {},
   "outputs": [],
   "source": [
    "z = lambda a,b,c:a**2+b*3+c"
   ]
  },
  {
   "cell_type": "code",
   "execution_count": 39,
   "id": "f66b12c5-99fb-406d-be06-d9de232bb6d3",
   "metadata": {},
   "outputs": [
    {
     "data": {
      "text/plain": [
       "50"
      ]
     },
     "execution_count": 39,
     "metadata": {},
     "output_type": "execute_result"
    }
   ],
   "source": [
    "z(5,6,7)"
   ]
  },
  {
   "cell_type": "code",
   "execution_count": 40,
   "id": "fa542c09-9884-4b54-8309-f64d68fab1ea",
   "metadata": {},
   "outputs": [],
   "source": [
    "from functools import reduce"
   ]
  },
  {
   "cell_type": "code",
   "execution_count": 41,
   "id": "4a9f2485-20b6-4991-8047-2798dd357252",
   "metadata": {},
   "outputs": [
    {
     "data": {
      "text/plain": [
       "39"
      ]
     },
     "execution_count": 41,
     "metadata": {},
     "output_type": "execute_result"
    }
   ],
   "source": [
    "test = [4,5,6,7,8,9]\n",
    "reduce(lambda x,y:x+y,test)"
   ]
  },
  {
   "cell_type": "code",
   "execution_count": 42,
   "id": "4c7be4ee-0b95-46c8-9f5d-82d9f511598e",
   "metadata": {},
   "outputs": [
    {
     "data": {
      "text/plain": [
       "0.0002645502645502645"
      ]
     },
     "execution_count": 42,
     "metadata": {},
     "output_type": "execute_result"
    }
   ],
   "source": [
    "test = [4,5,6,7,8,9]\n",
    "reduce(lambda x,y:x/y,test)"
   ]
  },
  {
   "cell_type": "code",
   "execution_count": null,
   "id": "967219ed-eef8-464d-9f1b-054b2a02faa8",
   "metadata": {},
   "outputs": [],
   "source": []
  },
  {
   "cell_type": "code",
   "execution_count": null,
   "id": "bcee9366-6af0-4393-9f8e-fd500b58e497",
   "metadata": {},
   "outputs": [],
   "source": []
  }
 ],
 "metadata": {
  "kernelspec": {
   "display_name": "Python 3 (ipykernel)",
   "language": "python",
   "name": "python3"
  },
  "language_info": {
   "codemirror_mode": {
    "name": "ipython",
    "version": 3
   },
   "file_extension": ".py",
   "mimetype": "text/x-python",
   "name": "python",
   "nbconvert_exporter": "python",
   "pygments_lexer": "ipython3",
   "version": "3.9.13"
  }
 },
 "nbformat": 4,
 "nbformat_minor": 5
}
