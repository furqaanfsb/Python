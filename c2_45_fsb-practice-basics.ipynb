{
 "cells": [
  {
   "cell_type": "code",
   "execution_count": 2,
   "id": "12cb37aa",
   "metadata": {},
   "outputs": [
    {
     "name": "stdout",
     "output_type": "stream",
     "text": [
      "Hey furqaan,this is in continuation of class one(c1-basics)\n"
     ]
    }
   ],
   "source": [
    "print(\"Hey furqaan,this is in continuation of class one(c1-basics)\")"
   ]
  },
  {
   "cell_type": "markdown",
   "id": "04b54899",
   "metadata": {},
   "source": [
    "# tuple\n"
   ]
  },
  {
   "cell_type": "code",
   "execution_count": null,
   "id": "c4d80270",
   "metadata": {},
   "outputs": [],
   "source": []
  },
  {
   "cell_type": "code",
   "execution_count": 1,
   "id": "ee49c5aa",
   "metadata": {},
   "outputs": [],
   "source": [
    "t=(22,33,4)"
   ]
  },
  {
   "cell_type": "code",
   "execution_count": 2,
   "id": "6fa01a5f",
   "metadata": {},
   "outputs": [
    {
     "data": {
      "text/plain": [
       "(22, 33, 4)"
      ]
     },
     "execution_count": 2,
     "metadata": {},
     "output_type": "execute_result"
    }
   ],
   "source": [
    "t"
   ]
  },
  {
   "cell_type": "code",
   "execution_count": 3,
   "id": "cd14ac2e",
   "metadata": {},
   "outputs": [
    {
     "data": {
      "text/plain": [
       "tuple"
      ]
     },
     "execution_count": 3,
     "metadata": {},
     "output_type": "execute_result"
    }
   ],
   "source": [
    "type(t)"
   ]
  },
  {
   "cell_type": "code",
   "execution_count": 4,
   "id": "19538f2a",
   "metadata": {},
   "outputs": [],
   "source": [
    "a=()\n",
    "b=[]\n",
    "c={}"
   ]
  },
  {
   "cell_type": "code",
   "execution_count": 5,
   "id": "a63ece36",
   "metadata": {},
   "outputs": [
    {
     "data": {
      "text/plain": [
       "tuple"
      ]
     },
     "execution_count": 5,
     "metadata": {},
     "output_type": "execute_result"
    }
   ],
   "source": [
    "type(a)"
   ]
  },
  {
   "cell_type": "code",
   "execution_count": 6,
   "id": "9fefe2e6",
   "metadata": {},
   "outputs": [
    {
     "data": {
      "text/plain": [
       "list"
      ]
     },
     "execution_count": 6,
     "metadata": {},
     "output_type": "execute_result"
    }
   ],
   "source": [
    "type(b)"
   ]
  },
  {
   "cell_type": "code",
   "execution_count": 7,
   "id": "3186e9c1",
   "metadata": {},
   "outputs": [
    {
     "data": {
      "text/plain": [
       "dict"
      ]
     },
     "execution_count": 7,
     "metadata": {},
     "output_type": "execute_result"
    }
   ],
   "source": [
    "type(c)"
   ]
  },
  {
   "cell_type": "code",
   "execution_count": 8,
   "id": "e30b68cc",
   "metadata": {},
   "outputs": [],
   "source": [
    "t1=(22,33,211,44,22,33)"
   ]
  },
  {
   "cell_type": "code",
   "execution_count": 9,
   "id": "2c1c2060",
   "metadata": {},
   "outputs": [
    {
     "data": {
      "text/plain": [
       "(22, 33, 211, 44, 22, 33)"
      ]
     },
     "execution_count": 9,
     "metadata": {},
     "output_type": "execute_result"
    }
   ],
   "source": [
    "t1\n"
   ]
  },
  {
   "cell_type": "code",
   "execution_count": 10,
   "id": "051d29da",
   "metadata": {},
   "outputs": [],
   "source": [
    "##ONLY 2 FTNS ARE AVAILABLE FOR TUPLE"
   ]
  },
  {
   "cell_type": "code",
   "execution_count": 11,
   "id": "23598517",
   "metadata": {},
   "outputs": [
    {
     "data": {
      "text/plain": [
       "0"
      ]
     },
     "execution_count": 11,
     "metadata": {},
     "output_type": "execute_result"
    }
   ],
   "source": [
    "t1.count(2)"
   ]
  },
  {
   "cell_type": "code",
   "execution_count": 12,
   "id": "693a37e5",
   "metadata": {},
   "outputs": [
    {
     "data": {
      "text/plain": [
       "2"
      ]
     },
     "execution_count": 12,
     "metadata": {},
     "output_type": "execute_result"
    }
   ],
   "source": [
    "\n",
    "t1.count(22)"
   ]
  },
  {
   "cell_type": "code",
   "execution_count": 13,
   "id": "e00cb96f",
   "metadata": {},
   "outputs": [
    {
     "data": {
      "text/plain": [
       "0"
      ]
     },
     "execution_count": 13,
     "metadata": {},
     "output_type": "execute_result"
    }
   ],
   "source": [
    "t1.index(22)"
   ]
  },
  {
   "cell_type": "code",
   "execution_count": 14,
   "id": "e7399f11",
   "metadata": {},
   "outputs": [
    {
     "data": {
      "text/plain": [
       "1"
      ]
     },
     "execution_count": 14,
     "metadata": {},
     "output_type": "execute_result"
    }
   ],
   "source": [
    "t1.index(33)"
   ]
  },
  {
   "cell_type": "code",
   "execution_count": 15,
   "id": "e164869e",
   "metadata": {},
   "outputs": [
    {
     "ename": "SyntaxError",
     "evalue": "invalid syntax (2503192278.py, line 1)",
     "output_type": "error",
     "traceback": [
      "\u001b[1;36m  File \u001b[1;32m\"C:\\Users\\furqa\\AppData\\Local\\Temp\\ipykernel_8600\\2503192278.py\"\u001b[1;36m, line \u001b[1;32m1\u001b[0m\n\u001b[1;33m    append,insert,.extend does not work here\u001b[0m\n\u001b[1;37m                  ^\u001b[0m\n\u001b[1;31mSyntaxError\u001b[0m\u001b[1;31m:\u001b[0m invalid syntax\n"
     ]
    }
   ],
   "source": [
    "append,insert,.extend does not work here\n"
   ]
  },
  {
   "cell_type": "code",
   "execution_count": null,
   "id": "b9e4c5b0",
   "metadata": {},
   "outputs": [],
   "source": [
    "t1.sort()"
   ]
  },
  {
   "cell_type": "code",
   "execution_count": null,
   "id": "af5bc0b1",
   "metadata": {},
   "outputs": [],
   "source": [
    "l=[33,44,5,3]"
   ]
  },
  {
   "cell_type": "code",
   "execution_count": null,
   "id": "fbc1f40e",
   "metadata": {},
   "outputs": [],
   "source": [
    "l.sort()"
   ]
  },
  {
   "cell_type": "code",
   "execution_count": null,
   "id": "364c765b",
   "metadata": {},
   "outputs": [],
   "source": [
    "l\n"
   ]
  },
  {
   "cell_type": "code",
   "execution_count": null,
   "id": "4653e091",
   "metadata": {},
   "outputs": [],
   "source": [
    "t1"
   ]
  },
  {
   "cell_type": "code",
   "execution_count": null,
   "id": "9a4d06af",
   "metadata": {},
   "outputs": [],
   "source": [
    "t1.insert(2,3)"
   ]
  },
  {
   "cell_type": "code",
   "execution_count": null,
   "id": "3cfb3871",
   "metadata": {},
   "outputs": [],
   "source": [
    "for i in t1:\n",
    "    print(i)"
   ]
  },
  {
   "cell_type": "code",
   "execution_count": null,
   "id": "0103e139",
   "metadata": {},
   "outputs": [],
   "source": [
    "for i in range(len(t1)):\n",
    "    print(t1[i])"
   ]
  },
  {
   "cell_type": "code",
   "execution_count": null,
   "id": "bd859b15",
   "metadata": {},
   "outputs": [],
   "source": [
    "33 in t1"
   ]
  },
  {
   "cell_type": "code",
   "execution_count": null,
   "id": "aeea2ebf",
   "metadata": {},
   "outputs": [],
   "source": [
    "'k' in t1\n"
   ]
  },
  {
   "cell_type": "markdown",
   "id": "81124cda",
   "metadata": {},
   "source": [
    "# set"
   ]
  },
  {
   "cell_type": "code",
   "execution_count": null,
   "id": "c9a7e83f",
   "metadata": {},
   "outputs": [],
   "source": [
    "S={}"
   ]
  },
  {
   "cell_type": "code",
   "execution_count": null,
   "id": "2a924640",
   "metadata": {},
   "outputs": [],
   "source": [
    "type(S)"
   ]
  },
  {
   "cell_type": "code",
   "execution_count": null,
   "id": "6f312a45",
   "metadata": {},
   "outputs": [],
   "source": [
    "a={1,2}"
   ]
  },
  {
   "cell_type": "code",
   "execution_count": null,
   "id": "87f3a371",
   "metadata": {},
   "outputs": [],
   "source": [
    "type(a)"
   ]
  },
  {
   "cell_type": "code",
   "execution_count": null,
   "id": "9911d045",
   "metadata": {},
   "outputs": [],
   "source": [
    "a"
   ]
  },
  {
   "cell_type": "code",
   "execution_count": null,
   "id": "ad04fe88",
   "metadata": {},
   "outputs": [],
   "source": [
    "a={22,'sss',77,22,33,'sss','er'}"
   ]
  },
  {
   "cell_type": "code",
   "execution_count": null,
   "id": "66e9fed8",
   "metadata": {},
   "outputs": [],
   "source": [
    "a"
   ]
  },
  {
   "cell_type": "code",
   "execution_count": null,
   "id": "4597e232",
   "metadata": {},
   "outputs": [],
   "source": [
    "len(a)"
   ]
  },
  {
   "cell_type": "code",
   "execution_count": null,
   "id": "9e07cab7",
   "metadata": {},
   "outputs": [],
   "source": [
    "s={33,455,6787,1,2,3,3}"
   ]
  },
  {
   "cell_type": "code",
   "execution_count": null,
   "id": "9bd7e1e9",
   "metadata": {},
   "outputs": [],
   "source": [
    "s"
   ]
  },
  {
   "cell_type": "code",
   "execution_count": null,
   "id": "49847d98",
   "metadata": {},
   "outputs": [],
   "source": [
    "s"
   ]
  },
  {
   "cell_type": "code",
   "execution_count": null,
   "id": "767524d7",
   "metadata": {},
   "outputs": [],
   "source": [
    "s"
   ]
  },
  {
   "cell_type": "code",
   "execution_count": null,
   "id": "ce85e4b4",
   "metadata": {},
   "outputs": [],
   "source": [
    "a=list(s)"
   ]
  },
  {
   "cell_type": "code",
   "execution_count": null,
   "id": "294b707d",
   "metadata": {},
   "outputs": [],
   "source": [
    "a"
   ]
  },
  {
   "cell_type": "code",
   "execution_count": null,
   "id": "9324d2d1",
   "metadata": {},
   "outputs": [],
   "source": [
    "\n",
    "s"
   ]
  },
  {
   "cell_type": "code",
   "execution_count": null,
   "id": "2ccc1852",
   "metadata": {},
   "outputs": [],
   "source": [
    "type(a)"
   ]
  },
  {
   "cell_type": "code",
   "execution_count": null,
   "id": "b72205c9",
   "metadata": {},
   "outputs": [],
   "source": [
    "x=set(a)"
   ]
  },
  {
   "cell_type": "code",
   "execution_count": null,
   "id": "d2b18d7a",
   "metadata": {},
   "outputs": [],
   "source": [
    "a"
   ]
  },
  {
   "cell_type": "code",
   "execution_count": null,
   "id": "bae4c184",
   "metadata": {},
   "outputs": [],
   "source": [
    "x"
   ]
  },
  {
   "cell_type": "code",
   "execution_count": null,
   "id": "01ade070",
   "metadata": {},
   "outputs": [],
   "source": [
    "tuple(x)"
   ]
  },
  {
   "cell_type": "code",
   "execution_count": null,
   "id": "8713956c",
   "metadata": {},
   "outputs": [],
   "source": [
    "x"
   ]
  },
  {
   "cell_type": "code",
   "execution_count": null,
   "id": "c72270d7",
   "metadata": {},
   "outputs": [],
   "source": [
    "w=tuple(x)"
   ]
  },
  {
   "cell_type": "code",
   "execution_count": null,
   "id": "ed41dcb0",
   "metadata": {},
   "outputs": [],
   "source": [
    "w"
   ]
  },
  {
   "cell_type": "code",
   "execution_count": null,
   "id": "2e920ac4",
   "metadata": {},
   "outputs": [],
   "source": [
    "x\n",
    "\n"
   ]
  },
  {
   "cell_type": "code",
   "execution_count": null,
   "id": "38cbe44e",
   "metadata": {},
   "outputs": [],
   "source": [
    "list_convert=[555,6677,88]"
   ]
  },
  {
   "cell_type": "code",
   "execution_count": null,
   "id": "dd9aeb7a",
   "metadata": {},
   "outputs": [],
   "source": [
    "s,w,a"
   ]
  },
  {
   "cell_type": "code",
   "execution_count": null,
   "id": "2e27f96a",
   "metadata": {},
   "outputs": [],
   "source": [
    "s.pop()"
   ]
  },
  {
   "cell_type": "code",
   "execution_count": null,
   "id": "2f3e2fe9",
   "metadata": {},
   "outputs": [],
   "source": [
    "s"
   ]
  },
  {
   "cell_type": "code",
   "execution_count": null,
   "id": "891ed12e",
   "metadata": {},
   "outputs": [],
   "source": [
    "s.pop()"
   ]
  },
  {
   "cell_type": "code",
   "execution_count": null,
   "id": "fddfea8f",
   "metadata": {},
   "outputs": [],
   "source": [
    "s"
   ]
  },
  {
   "cell_type": "code",
   "execution_count": null,
   "id": "4a0767d3",
   "metadata": {},
   "outputs": [],
   "source": [
    "w.pop()"
   ]
  },
  {
   "cell_type": "code",
   "execution_count": null,
   "id": "d10c282e",
   "metadata": {},
   "outputs": [],
   "source": [
    "a\n"
   ]
  },
  {
   "cell_type": "code",
   "execution_count": null,
   "id": "65a3733f",
   "metadata": {},
   "outputs": [],
   "source": [
    "a.pop()"
   ]
  },
  {
   "cell_type": "code",
   "execution_count": null,
   "id": "86a402ac",
   "metadata": {},
   "outputs": [],
   "source": [
    "a"
   ]
  },
  {
   "cell_type": "code",
   "execution_count": null,
   "id": "fb65734f",
   "metadata": {},
   "outputs": [],
   "source": [
    "a.pop()"
   ]
  },
  {
   "cell_type": "code",
   "execution_count": null,
   "id": "0fd04d71",
   "metadata": {},
   "outputs": [],
   "source": [
    "a"
   ]
  },
  {
   "cell_type": "code",
   "execution_count": null,
   "id": "4bfb8054",
   "metadata": {},
   "outputs": [],
   "source": [
    "a.pop(0)"
   ]
  },
  {
   "cell_type": "code",
   "execution_count": null,
   "id": "d84fb1ac",
   "metadata": {},
   "outputs": [],
   "source": [
    "a.remove(2)"
   ]
  },
  {
   "cell_type": "code",
   "execution_count": null,
   "id": "ff76ea65",
   "metadata": {},
   "outputs": [],
   "source": [
    "a"
   ]
  },
  {
   "cell_type": "code",
   "execution_count": null,
   "id": "9f498f25",
   "metadata": {},
   "outputs": [],
   "source": [
    "x={'1' : 'furqaan','a':33}"
   ]
  },
  {
   "cell_type": "code",
   "execution_count": null,
   "id": "a97c6b37",
   "metadata": {},
   "outputs": [],
   "source": [
    "x"
   ]
  },
  {
   "cell_type": "code",
   "execution_count": null,
   "id": "dbe80b37",
   "metadata": {},
   "outputs": [],
   "source": [
    "x['1']"
   ]
  },
  {
   "cell_type": "code",
   "execution_count": null,
   "id": "0692e1cc",
   "metadata": {},
   "outputs": [],
   "source": [
    "x['a']"
   ]
  },
  {
   "cell_type": "code",
   "execution_count": null,
   "id": "f44b6ad2",
   "metadata": {},
   "outputs": [],
   "source": [
    "x[a]"
   ]
  },
  {
   "cell_type": "code",
   "execution_count": null,
   "id": "6dc30f81",
   "metadata": {},
   "outputs": [],
   "source": [
    "x['a']=22"
   ]
  },
  {
   "cell_type": "code",
   "execution_count": null,
   "id": "6c8b8066",
   "metadata": {},
   "outputs": [],
   "source": [
    "x"
   ]
  },
  {
   "cell_type": "code",
   "execution_count": null,
   "id": "d137b67b",
   "metadata": {},
   "outputs": [],
   "source": [
    "ds={ }"
   ]
  },
  {
   "cell_type": "code",
   "execution_count": null,
   "id": "68104ebf",
   "metadata": {},
   "outputs": [],
   "source": [
    "type(ds)\n"
   ]
  },
  {
   "cell_type": "code",
   "execution_count": null,
   "id": "a089b89d",
   "metadata": {},
   "outputs": [],
   "source": [
    "s=set()"
   ]
  },
  {
   "cell_type": "code",
   "execution_count": null,
   "id": "b6d566a4",
   "metadata": {},
   "outputs": [],
   "source": [
    "type(s)"
   ]
  },
  {
   "cell_type": "code",
   "execution_count": null,
   "id": "42d83545",
   "metadata": {},
   "outputs": [],
   "source": [
    "d={1:'dd',2:'djhd'}"
   ]
  },
  {
   "cell_type": "code",
   "execution_count": null,
   "id": "51e0ebca",
   "metadata": {},
   "outputs": [],
   "source": [
    "d[1]"
   ]
  },
  {
   "cell_type": "code",
   "execution_count": null,
   "id": "f357a98f",
   "metadata": {},
   "outputs": [],
   "source": [
    "\n",
    "d={'a':1,'b':2,'c':3}"
   ]
  },
  {
   "cell_type": "code",
   "execution_count": null,
   "id": "c0e1277e",
   "metadata": {},
   "outputs": [],
   "source": [
    "d"
   ]
  },
  {
   "cell_type": "code",
   "execution_count": null,
   "id": "73cc021c",
   "metadata": {},
   "outputs": [],
   "source": [
    "d.get('d')"
   ]
  },
  {
   "cell_type": "code",
   "execution_count": null,
   "id": "4f55c9f7",
   "metadata": {},
   "outputs": [],
   "source": [
    "d.get('a')"
   ]
  },
  {
   "cell_type": "code",
   "execution_count": null,
   "id": "06f8812f",
   "metadata": {},
   "outputs": [],
   "source": [
    "\n",
    "\n",
    "1 in d"
   ]
  },
  {
   "cell_type": "code",
   "execution_count": null,
   "id": "875d8c3b",
   "metadata": {},
   "outputs": [],
   "source": [
    "'a' in d"
   ]
  },
  {
   "cell_type": "code",
   "execution_count": null,
   "id": "c644c47b",
   "metadata": {},
   "outputs": [],
   "source": [
    "5 in d"
   ]
  },
  {
   "cell_type": "code",
   "execution_count": null,
   "id": "3eb0fa99",
   "metadata": {},
   "outputs": [],
   "source": [
    "for i in d.values():\n",
    "    print(i)"
   ]
  },
  {
   "cell_type": "code",
   "execution_count": null,
   "id": "885c7e97",
   "metadata": {},
   "outputs": [],
   "source": [
    "for i in d.keys():\n",
    "    print(i)"
   ]
  },
  {
   "cell_type": "code",
   "execution_count": null,
   "id": "f5c830df",
   "metadata": {},
   "outputs": [],
   "source": [
    "for i in d.keys():\n",
    "    print(i,'  ',d[i])"
   ]
  },
  {
   "cell_type": "code",
   "execution_count": null,
   "id": "57d37781",
   "metadata": {},
   "outputs": [],
   "source": [
    "d['d']=4"
   ]
  },
  {
   "cell_type": "code",
   "execution_count": null,
   "id": "a9c49eaf",
   "metadata": {},
   "outputs": [],
   "source": [
    "d"
   ]
  },
  {
   "cell_type": "code",
   "execution_count": null,
   "id": "b4483f81",
   "metadata": {},
   "outputs": [],
   "source": [
    "del(d['b'])"
   ]
  },
  {
   "cell_type": "code",
   "execution_count": null,
   "id": "c147f266",
   "metadata": {},
   "outputs": [],
   "source": [
    "d\n"
   ]
  },
  {
   "cell_type": "code",
   "execution_count": null,
   "id": "fab608b9",
   "metadata": {},
   "outputs": [],
   "source": [
    "d={}\n",
    "\n",
    "for i in range(5):\n",
    "    x=input(\"enter 5 product names  \")\n",
    "    \n",
    "    while i==j:\n",
    "        y=int(input('enter the price'))\n",
    "        break"
   ]
  },
  {
   "cell_type": "code",
   "execution_count": 7,
   "id": "474b54aa",
   "metadata": {},
   "outputs": [
    {
     "name": "stdout",
     "output_type": "stream",
     "text": [
      "enter 5 product names  aaple\n",
      "enter 5 product names  banana\n",
      "enter 5 product names  carrot\n",
      "enter 5 product names  pineapple\n",
      "enter 5 product names  bread'\n",
      "enter prices333\n",
      "enter prices45\n",
      "enter prices65\n",
      "enter prices24\n",
      "enter prices24\n"
     ]
    }
   ],
   "source": [
    "products=[]\n",
    "prices=[]\n",
    "for i in range(5):\n",
    "    x=input(\"enter 5 product names  \")\n",
    "    products.append(x)\n",
    "for j in range(5):\n",
    "    y=int(input(\"enter prices\"))\n",
    "    prices.append(y)\n",
    "    \n"
   ]
  },
  {
   "cell_type": "code",
   "execution_count": 8,
   "id": "30c7d643",
   "metadata": {},
   "outputs": [
    {
     "data": {
      "text/plain": [
       "['aaple', 'banana', 'carrot', 'pineapple', \"bread'\"]"
      ]
     },
     "execution_count": 8,
     "metadata": {},
     "output_type": "execute_result"
    }
   ],
   "source": [
    "products"
   ]
  },
  {
   "cell_type": "code",
   "execution_count": 3,
   "id": "38d4c93f",
   "metadata": {},
   "outputs": [
    {
     "data": {
      "text/plain": [
       "[22, 33, 55, 212, 353]"
      ]
     },
     "execution_count": 3,
     "metadata": {},
     "output_type": "execute_result"
    }
   ],
   "source": [
    "prices"
   ]
  },
  {
   "cell_type": "code",
   "execution_count": 2,
   "id": "62d7374b",
   "metadata": {},
   "outputs": [],
   "source": [
    "for i in range(5):\n",
    "    pd[products[i]]=prices[i]\n",
    "    \n"
   ]
  },
  {
   "cell_type": "code",
   "execution_count": 15,
   "id": "5633d598",
   "metadata": {},
   "outputs": [
    {
     "data": {
      "text/plain": [
       "dict"
      ]
     },
     "execution_count": 15,
     "metadata": {},
     "output_type": "execute_result"
    }
   ],
   "source": [
    "type(pd)"
   ]
  },
  {
   "cell_type": "code",
   "execution_count": 25,
   "id": "57c972a5",
   "metadata": {},
   "outputs": [],
   "source": [
    "for i in range(5):\n",
    "    pd[products[i]]=prices[i]\n",
    "    \n"
   ]
  },
  {
   "cell_type": "code",
   "execution_count": 26,
   "id": "5fa4c874",
   "metadata": {},
   "outputs": [
    {
     "data": {
      "text/plain": [
       "dict_keys([])"
      ]
     },
     "execution_count": 26,
     "metadata": {},
     "output_type": "execute_result"
    }
   ],
   "source": [
    "pd.keys()"
   ]
  },
  {
   "cell_type": "code",
   "execution_count": 24,
   "id": "2cc54751",
   "metadata": {},
   "outputs": [
    {
     "data": {
      "text/plain": [
       "{0: 'aaple',\n",
       " 1: 'banana',\n",
       " 2: 'carrot',\n",
       " 3: 'pineapple',\n",
       " 4: \"bread'\",\n",
       " 'aaple': 333,\n",
       " 'banana': 45,\n",
       " 'carrot': 65,\n",
       " 'pineapple': 24,\n",
       " \"bread'\": 24}"
      ]
     },
     "execution_count": 24,
     "metadata": {},
     "output_type": "execute_result"
    }
   ],
   "source": [
    "pd"
   ]
  },
  {
   "cell_type": "code",
   "execution_count": 1,
   "id": "cf3d49fa",
   "metadata": {},
   "outputs": [
    {
     "name": "stdout",
     "output_type": "stream",
     "text": [
      "enter 1 product names  apple\n",
      "enter 2 product names  b\n",
      "enter 3 product names  c\n",
      "enter 4 product names  d\n",
      "enter 5 product names  e\n",
      "enter prices33\n",
      "enter prices44\n",
      "enter prices11\n",
      "enter prices55\n",
      "enter prices66\n"
     ]
    }
   ],
   "source": [
    "products=[]\n",
    "prices=[]\n",
    "product_dict={}\n",
    "for i in range(5):\n",
    "    x=input(\"enter \"+ str(i+1) + \" product names  \")\n",
    "    products.append(x)\n",
    "for j in range(5):\n",
    "    y=int(input(\"enter prices\"))\n",
    "    prices.append(y)\n",
    "for i in range(5):\n",
    "    product_dict[products[i]]=prices[i]\n",
    "    \n",
    "\n",
    "            "
   ]
  },
  {
   "cell_type": "code",
   "execution_count": 2,
   "id": "589b85d6",
   "metadata": {},
   "outputs": [
    {
     "data": {
      "text/plain": [
       "{'apple': 33, 'b': 44, 'c': 11, 'd': 55, 'e': 66}"
      ]
     },
     "execution_count": 2,
     "metadata": {},
     "output_type": "execute_result"
    }
   ],
   "source": [
    "product_dict"
   ]
  },
  {
   "cell_type": "code",
   "execution_count": null,
   "id": "1350bd41",
   "metadata": {},
   "outputs": [
    {
     "name": "stdout",
     "output_type": "stream",
     "text": [
      "Enter the product name\n",
      " aaple\n",
      "Enter the product price\n",
      "33\n",
      "Enter the product name\n",
      " samsung\n",
      "Enter the product price\n",
      "33333\n",
      "Enter the product name\n",
      " mi\n"
     ]
    }
   ],
   "source": [
    "count=5\n",
    "product={}\n",
    "for i in range(count):\n",
    "    product_name=input(\"Enter the product name\\n \")\n",
    "    price=eval(input(\"Enter the product price\\n\"))\n",
    "    product[product_name]=price"
   ]
  },
  {
   "cell_type": "code",
   "execution_count": 2,
   "id": "d3228093",
   "metadata": {},
   "outputs": [
    {
     "data": {
      "text/plain": [
       "{'aaple': 33, 'samsung': 33333, 'mi': 3554, 'oppo': 344334, 'realme': 54546}"
      ]
     },
     "execution_count": 2,
     "metadata": {},
     "output_type": "execute_result"
    }
   ],
   "source": [
    "product"
   ]
  },
  {
   "cell_type": "code",
   "execution_count": 3,
   "id": "be06a8d7",
   "metadata": {},
   "outputs": [
    {
     "name": "stdout",
     "output_type": "stream",
     "text": [
      "Enter the product name\n",
      " mi\n",
      "the coresponding price is  3554\n"
     ]
    }
   ],
   "source": [
    "product_name=input(\"Enter the product name\\n \")\n",
    "print('the coresponding price is ',product[product_name])   \n"
   ]
  },
  {
   "cell_type": "code",
   "execution_count": 3,
   "id": "c3ca0a8b",
   "metadata": {},
   "outputs": [],
   "source": [
    "month_dict={}"
   ]
  },
  {
   "cell_type": "code",
   "execution_count": 4,
   "id": "62192379",
   "metadata": {},
   "outputs": [
    {
     "data": {
      "text/plain": [
       "{}"
      ]
     },
     "execution_count": 4,
     "metadata": {},
     "output_type": "execute_result"
    }
   ],
   "source": [
    "month_dict\n"
   ]
  },
  {
   "cell_type": "code",
   "execution_count": 5,
   "id": "3f5a1674",
   "metadata": {},
   "outputs": [
    {
     "name": "stdout",
     "output_type": "stream",
     "text": [
      "enter the month jan\n",
      "enter the Number of days 31\n",
      "enter the month feb\n",
      "enter the Number of days 28\n",
      "enter the month mar\n",
      "enter the Number of days 31\n",
      "enter the month apr\n",
      "enter the Number of days 30\n",
      "enter the month may\n",
      "enter the Number of days 31\n",
      "enter the month jun\n",
      "enter the Number of days 30\n",
      "enter the month jul\n",
      "enter the Number of days 31\n",
      "enter the month aug\n",
      "enter the Number of days 31\n",
      "enter the month sep\n",
      "enter the Number of days 30\n",
      "enter the month oct\n",
      "enter the Number of days 31\n",
      "enter the month nov\n",
      "enter the Number of days 30\n",
      "enter the month dec\n",
      "enter the Number of days 31\n"
     ]
    }
   ],
   "source": [
    "for i in range(12):\n",
    "    month=input(\"enter the month \")\n",
    "    days=int(input(\"enter the Number of days \"))\n",
    "    month_dict[month]=days"
   ]
  },
  {
   "cell_type": "code",
   "execution_count": 6,
   "id": "8edfaa4f",
   "metadata": {},
   "outputs": [
    {
     "data": {
      "text/plain": [
       "{'jan': 31,\n",
       " 'feb': 28,\n",
       " 'mar': 31,\n",
       " 'apr': 30,\n",
       " 'may': 31,\n",
       " 'jun': 30,\n",
       " 'jul': 31,\n",
       " 'aug': 31,\n",
       " 'sep': 30,\n",
       " 'oct': 31,\n",
       " 'nov': 30,\n",
       " 'dec': 31}"
      ]
     },
     "execution_count": 6,
     "metadata": {},
     "output_type": "execute_result"
    }
   ],
   "source": [
    "\n",
    "month_dict"
   ]
  },
  {
   "cell_type": "code",
   "execution_count": 8,
   "id": "cafc3121",
   "metadata": {},
   "outputs": [
    {
     "name": "stdout",
     "output_type": "stream",
     "text": [
      "enter the month\n",
      "mar\n",
      "the month of  mar  has  31  days\n"
     ]
    }
   ],
   "source": [
    "month=input(\"enter the month\\n\")\n",
    "print(\"the month of \",month,\" has \",month_dict[month],' days')"
   ]
  },
  {
   "cell_type": "code",
   "execution_count": 9,
   "id": "42e9a33a",
   "metadata": {},
   "outputs": [
    {
     "name": "stdout",
     "output_type": "stream",
     "text": [
      "enter the month\n",
      "dec\n",
      "the month of  dec  has  31  days\n"
     ]
    }
   ],
   "source": [
    "month=input(\"enter the month\\n\")\n",
    "print(\"the month of \",month,\" has \",month_dict[month],' days')"
   ]
  },
  {
   "cell_type": "code",
   "execution_count": 10,
   "id": "d6265636",
   "metadata": {},
   "outputs": [
    {
     "name": "stdout",
     "output_type": "stream",
     "text": [
      "enter the month\n",
      "feb\n",
      "the month of  feb  has  28  days\n"
     ]
    }
   ],
   "source": [
    "month=input(\"enter the month\\n\")\n",
    "print(\"the month of \",month,\" has \",month_dict[month],' days')"
   ]
  },
  {
   "cell_type": "code",
   "execution_count": 27,
   "id": "981c988e",
   "metadata": {},
   "outputs": [
    {
     "data": {
      "text/plain": [
       "dict_keys(['jan', 'feb', 'mar', 'apr', 'may', 'jun', 'jul', 'aug', 'sep', 'oct', 'nov', 'dec'])"
      ]
     },
     "execution_count": 27,
     "metadata": {},
     "output_type": "execute_result"
    }
   ],
   "source": [
    "month_dict.keys()\n"
   ]
  },
  {
   "cell_type": "code",
   "execution_count": 30,
   "id": "a6e3c758",
   "metadata": {},
   "outputs": [
    {
     "name": "stdout",
     "output_type": "stream",
     "text": [
      "apr\n",
      "aug\n",
      "dec\n",
      "feb\n",
      "jan\n",
      "jul\n",
      "jun\n",
      "mar\n",
      "may\n",
      "nov\n",
      "oct\n",
      "sep\n"
     ]
    }
   ],
   "source": [
    "for i in sorted(month_dict.keys()):\n",
    "    print(i)\n"
   ]
  },
  {
   "cell_type": "code",
   "execution_count": 31,
   "id": "38851d78",
   "metadata": {},
   "outputs": [
    {
     "name": "stdout",
     "output_type": "stream",
     "text": [
      "sep\n",
      "oct\n",
      "nov\n",
      "may\n",
      "mar\n",
      "jun\n",
      "jul\n",
      "jan\n",
      "feb\n",
      "dec\n",
      "aug\n",
      "apr\n"
     ]
    }
   ],
   "source": [
    "for i in sorted(month_dict.keys(),reverse=True):\n",
    "    print(i)\n"
   ]
  },
  {
   "cell_type": "code",
   "execution_count": null,
   "id": "b4d98372",
   "metadata": {},
   "outputs": [],
   "source": [
    "team_dict={}\n",
    "for i in range(5):\n",
    "    team=input(\"enter the name of the team\\t\")\n",
    "    wins=int(input(\"enter the number of wins\\t\"))\n",
    "    lossess=int(input(\"enter the number of lossess\\t\"))\n",
    "    team_dict[team]=[wins,lossess]"
   ]
  },
  {
   "cell_type": "code",
   "execution_count": 39,
   "id": "6efb0371",
   "metadata": {},
   "outputs": [
    {
     "data": {
      "text/plain": [
       "{'india': [2, 4],\n",
       " 'pakistan': [3, 5],\n",
       " 'sri lanka': [1, 6],\n",
       " 'australia': [44, 66],\n",
       " 'bangladesh': [777, 88]}"
      ]
     },
     "execution_count": 39,
     "metadata": {},
     "output_type": "execute_result"
    }
   ],
   "source": [
    "team_dict"
   ]
  },
  {
   "cell_type": "code",
   "execution_count": 44,
   "id": "d65ebd04",
   "metadata": {},
   "outputs": [
    {
     "ename": "NameError",
     "evalue": "name 'india' is not defined",
     "output_type": "error",
     "traceback": [
      "\u001b[1;31m---------------------------------------------------------------------------\u001b[0m",
      "\u001b[1;31mNameError\u001b[0m                                 Traceback (most recent call last)",
      "\u001b[1;32m~\\AppData\\Local\\Temp\\ipykernel_10656\\1590895598.py\u001b[0m in \u001b[0;36m<module>\u001b[1;34m\u001b[0m\n\u001b[1;32m----> 1\u001b[1;33m \u001b[0mteam_dict\u001b[0m\u001b[1;33m[\u001b[0m\u001b[0mindia\u001b[0m\u001b[1;33m]\u001b[0m\u001b[1;33m\u001b[0m\u001b[1;33m\u001b[0m\u001b[0m\n\u001b[0m",
      "\u001b[1;31mNameError\u001b[0m: name 'india' is not defined"
     ]
    }
   ],
   "source": [
    "team_dict[india]"
   ]
  },
  {
   "cell_type": "code",
   "execution_count": 43,
   "id": "c2ad5808",
   "metadata": {},
   "outputs": [
    {
     "name": "stdout",
     "output_type": "stream",
     "text": [
      "enter the team name india\n",
      "the win percemtage is  0.5\n"
     ]
    }
   ],
   "source": [
    "teams=input(\"enter the team name \")\n",
    "print('the win percemtage is ',team_dict[teams][0]/team_dict[teams][1])"
   ]
  },
  {
   "cell_type": "code",
   "execution_count": 50,
   "id": "da4c72ae",
   "metadata": {},
   "outputs": [
    {
     "name": "stdout",
     "output_type": "stream",
     "text": [
      "enter the team name pakistan\n",
      "the win percemtage is  0.6\n"
     ]
    }
   ],
   "source": [
    "teams=input(\"enter the team name \")\n",
    "print('the win percemtage is ',team_dict[teams][0]/team_dict[teams][1])"
   ]
  },
  {
   "cell_type": "code",
   "execution_count": 2,
   "id": "c35954de",
   "metadata": {},
   "outputs": [
    {
     "ename": "NameError",
     "evalue": "name 'team_dict' is not defined",
     "output_type": "error",
     "traceback": [
      "\u001b[1;31m---------------------------------------------------------------------------\u001b[0m",
      "\u001b[1;31mNameError\u001b[0m                                 Traceback (most recent call last)",
      "\u001b[1;32m~\\AppData\\Local\\Temp\\ipykernel_9688\\2618855642.py\u001b[0m in \u001b[0;36m<module>\u001b[1;34m\u001b[0m\n\u001b[0;32m      1\u001b[0m \u001b[0mteamwinlist\u001b[0m\u001b[1;33m=\u001b[0m\u001b[1;33m[\u001b[0m\u001b[1;33m]\u001b[0m\u001b[1;33m\u001b[0m\u001b[1;33m\u001b[0m\u001b[0m\n\u001b[1;32m----> 2\u001b[1;33m \u001b[1;32mfor\u001b[0m \u001b[0mi\u001b[0m \u001b[1;32min\u001b[0m \u001b[0mteam_dict\u001b[0m\u001b[1;33m.\u001b[0m\u001b[0mkeys\u001b[0m\u001b[1;33m(\u001b[0m\u001b[1;33m)\u001b[0m\u001b[1;33m:\u001b[0m\u001b[1;33m\u001b[0m\u001b[1;33m\u001b[0m\u001b[0m\n\u001b[0m\u001b[0;32m      3\u001b[0m     \u001b[0mteamwinlist\u001b[0m\u001b[1;33m.\u001b[0m\u001b[0mappend\u001b[0m\u001b[1;33m(\u001b[0m\u001b[0mteam_dict\u001b[0m\u001b[1;33m[\u001b[0m\u001b[0mi\u001b[0m\u001b[1;33m]\u001b[0m\u001b[1;33m[\u001b[0m\u001b[1;36m0\u001b[0m\u001b[1;33m]\u001b[0m\u001b[1;33m)\u001b[0m\u001b[1;33m\u001b[0m\u001b[1;33m\u001b[0m\u001b[0m\n",
      "\u001b[1;31mNameError\u001b[0m: name 'team_dict' is not defined"
     ]
    }
   ],
   "source": [
    "teamwinlist=[]\n",
    "for i in team_dict.keys():\n",
    "    teamwinlist.append(team_dict[i][0])"
   ]
  },
  {
   "cell_type": "code",
   "execution_count": null,
   "id": "d4f0271f",
   "metadata": {},
   "outputs": [],
   "source": [
    "team_dict.keys()"
   ]
  },
  {
   "cell_type": "code",
   "execution_count": 64,
   "id": "c17b3602",
   "metadata": {},
   "outputs": [
    {
     "data": {
      "text/plain": [
       "[2, 3, 1, 44, 777]"
      ]
     },
     "execution_count": 64,
     "metadata": {},
     "output_type": "execute_result"
    }
   ],
   "source": [
    "teamwinlist\n"
   ]
  },
  {
   "cell_type": "code",
   "execution_count": null,
   "id": "f3ffb2e0",
   "metadata": {},
   "outputs": [],
   "source": []
  },
  {
   "cell_type": "code",
   "execution_count": null,
   "id": "97c7a528",
   "metadata": {},
   "outputs": [],
   "source": [
    "\n"
   ]
  },
  {
   "cell_type": "code",
   "execution_count": null,
   "id": "10ebfd43",
   "metadata": {},
   "outputs": [],
   "source": [
    "\n"
   ]
  },
  {
   "cell_type": "code",
   "execution_count": null,
   "id": "4d970759",
   "metadata": {},
   "outputs": [],
   "source": []
  },
  {
   "cell_type": "code",
   "execution_count": null,
   "id": "b4d7bb5c",
   "metadata": {},
   "outputs": [],
   "source": []
  }
 ],
 "metadata": {
  "kernelspec": {
   "display_name": "Python 3 (ipykernel)",
   "language": "python",
   "name": "python3"
  },
  "language_info": {
   "codemirror_mode": {
    "name": "ipython",
    "version": 3
   },
   "file_extension": ".py",
   "mimetype": "text/x-python",
   "name": "python",
   "nbconvert_exporter": "python",
   "pygments_lexer": "ipython3",
   "version": "3.9.13"
  },
  "widgets": {
   "application/vnd.jupyter.widget-state+json": {
    "state": {},
    "version_major": 2,
    "version_minor": 0
   }
  }
 },
 "nbformat": 4,
 "nbformat_minor": 5
}
