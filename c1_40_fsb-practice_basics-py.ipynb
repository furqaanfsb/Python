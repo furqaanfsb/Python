{
 "cells": [
  {
   "cell_type": "code",
   "execution_count": 1,
   "id": "f3f816e8",
   "metadata": {},
   "outputs": [
    {
     "name": "stdout",
     "output_type": "stream",
     "text": [
      "Hello World\n"
     ]
    }
   ],
   "source": [
    "print(\"Hello World\")"
   ]
  },
  {
   "cell_type": "code",
   "execution_count": 2,
   "id": "ac934d6f",
   "metadata": {},
   "outputs": [
    {
     "data": {
      "text/plain": [
       "str"
      ]
     },
     "execution_count": 2,
     "metadata": {},
     "output_type": "execute_result"
    }
   ],
   "source": [
    "type(\"Hello World\")"
   ]
  },
  {
   "cell_type": "code",
   "execution_count": 1,
   "id": "f67ab79b",
   "metadata": {},
   "outputs": [
    {
     "name": "stdout",
     "output_type": "stream",
     "text": [
      "Heloo furqaan,r u excited to learn python again from scratch\n"
     ]
    }
   ],
   "source": [
    "print('Heloo furqaan,r u excited to learn python again from scratch')"
   ]
  },
  {
   "cell_type": "code",
   "execution_count": 4,
   "id": "5622fb66",
   "metadata": {},
   "outputs": [
    {
     "ename": "SyntaxError",
     "evalue": "invalid syntax (2715667532.py, line 1)",
     "output_type": "error",
     "traceback": [
      "\u001b[1;36m  File \u001b[1;32m\"C:\\Users\\furqa\\AppData\\Local\\Temp\\ipykernel_18584\\2715667532.py\"\u001b[1;36m, line \u001b[1;32m1\u001b[0m\n\u001b[1;33m    print(Hello world)  # error\u001b[0m\n\u001b[1;37m                ^\u001b[0m\n\u001b[1;31mSyntaxError\u001b[0m\u001b[1;31m:\u001b[0m invalid syntax\n"
     ]
    }
   ],
   "source": [
    "print(Hello world)  # error string must be enclosed in '  ' or \"   \" or '''  '''"
   ]
  },
  {
   "cell_type": "code",
   "execution_count": 5,
   "id": "1be11ccf",
   "metadata": {},
   "outputs": [
    {
     "data": {
      "text/plain": [
       "str"
      ]
     },
     "execution_count": 5,
     "metadata": {},
     "output_type": "execute_result"
    }
   ],
   "source": [
    " type('a')"
   ]
  },
  {
   "cell_type": "code",
   "execution_count": 6,
   "id": "0bda9b71",
   "metadata": {},
   "outputs": [
    {
     "data": {
      "text/plain": [
       "str"
      ]
     },
     "execution_count": 6,
     "metadata": {},
     "output_type": "execute_result"
    }
   ],
   "source": [
    "type(\"a\")"
   ]
  },
  {
   "cell_type": "code",
   "execution_count": 7,
   "id": "9254ccfb",
   "metadata": {},
   "outputs": [
    {
     "data": {
      "text/plain": [
       "str"
      ]
     },
     "execution_count": 7,
     "metadata": {},
     "output_type": "execute_result"
    }
   ],
   "source": [
    "type('''a''')"
   ]
  },
  {
   "cell_type": "code",
   "execution_count": 8,
   "id": "8e070b83",
   "metadata": {},
   "outputs": [],
   "source": [
    "a=5 ##Assignment"
   ]
  },
  {
   "cell_type": "code",
   "execution_count": 9,
   "id": "96afbc7f",
   "metadata": {},
   "outputs": [
    {
     "data": {
      "text/plain": [
       "5"
      ]
     },
     "execution_count": 9,
     "metadata": {},
     "output_type": "execute_result"
    }
   ],
   "source": [
    "a"
   ]
  },
  {
   "cell_type": "code",
   "execution_count": 10,
   "id": "b825faae",
   "metadata": {},
   "outputs": [
    {
     "data": {
      "text/plain": [
       "int"
      ]
     },
     "execution_count": 10,
     "metadata": {},
     "output_type": "execute_result"
    }
   ],
   "source": [
    "type(a)"
   ]
  },
  {
   "cell_type": "code",
   "execution_count": 11,
   "id": "0dd7b786",
   "metadata": {},
   "outputs": [
    {
     "data": {
      "text/plain": [
       "True"
      ]
     },
     "execution_count": 11,
     "metadata": {},
     "output_type": "execute_result"
    }
   ],
   "source": [
    "a==5 ##comparison"
   ]
  },
  {
   "cell_type": "code",
   "execution_count": 12,
   "id": "fb01acad",
   "metadata": {},
   "outputs": [
    {
     "data": {
      "text/plain": [
       "False"
      ]
     },
     "execution_count": 12,
     "metadata": {},
     "output_type": "execute_result"
    }
   ],
   "source": [
    "a==6"
   ]
  },
  {
   "cell_type": "code",
   "execution_count": 13,
   "id": "ce1fbe46",
   "metadata": {},
   "outputs": [
    {
     "data": {
      "text/plain": [
       "bool"
      ]
     },
     "execution_count": 13,
     "metadata": {},
     "output_type": "execute_result"
    }
   ],
   "source": [
    "type(a==5) ## comparison operator returns boolean(True or False)"
   ]
  },
  {
   "cell_type": "code",
   "execution_count": 14,
   "id": "71e87cef",
   "metadata": {},
   "outputs": [
    {
     "data": {
      "text/plain": [
       "range(0, 10)"
      ]
     },
     "execution_count": 14,
     "metadata": {},
     "output_type": "execute_result"
    }
   ],
   "source": [
    "range(10)"
   ]
  },
  {
   "cell_type": "code",
   "execution_count": 15,
   "id": "337fcbcf",
   "metadata": {},
   "outputs": [
    {
     "data": {
      "text/plain": [
       "range(1, 10)"
      ]
     },
     "execution_count": 15,
     "metadata": {},
     "output_type": "execute_result"
    }
   ],
   "source": [
    "range(1,10)"
   ]
  },
  {
   "cell_type": "code",
   "execution_count": 16,
   "id": "4e542d52",
   "metadata": {},
   "outputs": [
    {
     "data": {
      "text/plain": [
       "[0, 1, 2, 3, 4, 5, 6, 7, 8, 9]"
      ]
     },
     "execution_count": 16,
     "metadata": {},
     "output_type": "execute_result"
    }
   ],
   "source": [
    "list(range(10)) # is equal to range(0,10),start=0,end=10, end is exclusive,start is inclusive"
   ]
  },
  {
   "cell_type": "code",
   "execution_count": 17,
   "id": "afdd7268",
   "metadata": {},
   "outputs": [
    {
     "data": {
      "text/plain": [
       "[3, 4, 5, 6, 7, 8, 9]"
      ]
     },
     "execution_count": 17,
     "metadata": {},
     "output_type": "execute_result"
    }
   ],
   "source": [
    "list(range(3,10))"
   ]
  },
  {
   "cell_type": "code",
   "execution_count": 18,
   "id": "eb534d08",
   "metadata": {},
   "outputs": [
    {
     "data": {
      "text/plain": [
       "[0, 2, 4, 6, 8]"
      ]
     },
     "execution_count": 18,
     "metadata": {},
     "output_type": "execute_result"
    }
   ],
   "source": [
    "list(range(0,10,2))  # start=0,end=10 and 2 refers to step size"
   ]
  },
  {
   "cell_type": "code",
   "execution_count": 19,
   "id": "25911ed7",
   "metadata": {},
   "outputs": [
    {
     "data": {
      "text/plain": [
       "[0, 1, 2, 3, 4, 5, 6, 7, 8, 9]"
      ]
     },
     "execution_count": 19,
     "metadata": {},
     "output_type": "execute_result"
    }
   ],
   "source": [
    "list(range(0,10,1))"
   ]
  },
  {
   "cell_type": "code",
   "execution_count": 20,
   "id": "f70eaecf",
   "metadata": {},
   "outputs": [
    {
     "data": {
      "text/plain": [
       "[]"
      ]
     },
     "execution_count": 20,
     "metadata": {},
     "output_type": "execute_result"
    }
   ],
   "source": [
    "list(range(10,3)) # need to b rectified"
   ]
  },
  {
   "cell_type": "code",
   "execution_count": 23,
   "id": "f4a28ed9",
   "metadata": {},
   "outputs": [
    {
     "data": {
      "text/plain": [
       "[10, 9, 8, 7, 6, 5, 4]"
      ]
     },
     "execution_count": 23,
     "metadata": {},
     "output_type": "execute_result"
    }
   ],
   "source": [
    "list(range(10,3,-1)) # step size -1(negative)"
   ]
  },
  {
   "cell_type": "code",
   "execution_count": 21,
   "id": "fe387b65",
   "metadata": {},
   "outputs": [
    {
     "name": "stdout",
     "output_type": "stream",
     "text": [
      "[0, 1]\n"
     ]
    }
   ],
   "source": [
    "print(list(range(2)))"
   ]
  },
  {
   "cell_type": "code",
   "execution_count": 22,
   "id": "5a68b1fe",
   "metadata": {},
   "outputs": [
    {
     "data": {
      "text/plain": [
       "[]"
      ]
     },
     "execution_count": 22,
     "metadata": {},
     "output_type": "execute_result"
    }
   ],
   "source": [
    "list(range(3,10,-1))"
   ]
  },
  {
   "cell_type": "code",
   "execution_count": 24,
   "id": "0466c30f",
   "metadata": {},
   "outputs": [
    {
     "ename": "TypeError",
     "evalue": "'float' object cannot be interpreted as an integer",
     "output_type": "error",
     "traceback": [
      "\u001b[1;31m---------------------------------------------------------------------------\u001b[0m",
      "\u001b[1;31mTypeError\u001b[0m                                 Traceback (most recent call last)",
      "\u001b[1;32m~\\AppData\\Local\\Temp\\ipykernel_18584\\1628764533.py\u001b[0m in \u001b[0;36m<module>\u001b[1;34m\u001b[0m\n\u001b[1;32m----> 1\u001b[1;33m \u001b[0mlist\u001b[0m\u001b[1;33m(\u001b[0m\u001b[0mrange\u001b[0m\u001b[1;33m(\u001b[0m\u001b[1;36m3\u001b[0m\u001b[1;33m,\u001b[0m\u001b[1;36m10.5\u001b[0m\u001b[1;33m)\u001b[0m\u001b[1;33m)\u001b[0m\u001b[1;33m\u001b[0m\u001b[1;33m\u001b[0m\u001b[0m\n\u001b[0m",
      "\u001b[1;31mTypeError\u001b[0m: 'float' object cannot be interpreted as an integer"
     ]
    }
   ],
   "source": [
    "list(range(3,10.5)) #error"
   ]
  },
  {
   "cell_type": "code",
   "execution_count": 25,
   "id": "13ff67c8",
   "metadata": {},
   "outputs": [
    {
     "ename": "TypeError",
     "evalue": "'float' object cannot be interpreted as an integer",
     "output_type": "error",
     "traceback": [
      "\u001b[1;31m---------------------------------------------------------------------------\u001b[0m",
      "\u001b[1;31mTypeError\u001b[0m                                 Traceback (most recent call last)",
      "\u001b[1;32m~\\AppData\\Local\\Temp\\ipykernel_18584\\1585570156.py\u001b[0m in \u001b[0;36m<module>\u001b[1;34m\u001b[0m\n\u001b[1;32m----> 1\u001b[1;33m \u001b[0mlist\u001b[0m\u001b[1;33m(\u001b[0m\u001b[0mrange\u001b[0m\u001b[1;33m(\u001b[0m\u001b[1;36m3.5\u001b[0m\u001b[1;33m,\u001b[0m\u001b[1;36m10.5\u001b[0m\u001b[1;33m)\u001b[0m\u001b[1;33m)\u001b[0m\u001b[1;33m\u001b[0m\u001b[1;33m\u001b[0m\u001b[0m\n\u001b[0m",
      "\u001b[1;31mTypeError\u001b[0m: 'float' object cannot be interpreted as an integer"
     ]
    }
   ],
   "source": [
    "list(range(3.5,10.5)) #error"
   ]
  },
  {
   "cell_type": "code",
   "execution_count": 26,
   "id": "06c585de",
   "metadata": {},
   "outputs": [
    {
     "data": {
      "text/plain": [
       "[-10, -9, -8, -7, -6, -5, -4]"
      ]
     },
     "execution_count": 26,
     "metadata": {},
     "output_type": "execute_result"
    }
   ],
   "source": [
    "list(range(-10,-3))"
   ]
  },
  {
   "cell_type": "code",
   "execution_count": 27,
   "id": "c37d3457",
   "metadata": {},
   "outputs": [
    {
     "data": {
      "text/plain": [
       "[10, 9, 8, 7, 6, 5, 4]"
      ]
     },
     "execution_count": 27,
     "metadata": {},
     "output_type": "execute_result"
    }
   ],
   "source": [
    "list(range(10,3,-1))"
   ]
  },
  {
   "cell_type": "code",
   "execution_count": 28,
   "id": "49edbba0",
   "metadata": {},
   "outputs": [
    {
     "data": {
      "text/plain": [
       "'anandjha'"
      ]
     },
     "execution_count": 28,
     "metadata": {},
     "output_type": "execute_result"
    }
   ],
   "source": [
    "'anand'+'jha'"
   ]
  },
  {
   "cell_type": "code",
   "execution_count": 29,
   "id": "dae1ef07",
   "metadata": {},
   "outputs": [
    {
     "data": {
      "text/plain": [
       "'anand jha'"
      ]
     },
     "execution_count": 29,
     "metadata": {},
     "output_type": "execute_result"
    }
   ],
   "source": [
    "'anand'+' jha'"
   ]
  },
  {
   "cell_type": "code",
   "execution_count": 30,
   "id": "094c8361",
   "metadata": {},
   "outputs": [
    {
     "data": {
      "text/plain": [
       "'anand jha'"
      ]
     },
     "execution_count": 30,
     "metadata": {},
     "output_type": "execute_result"
    }
   ],
   "source": [
    "'anand'+' '+'jha'"
   ]
  },
  {
   "cell_type": "code",
   "execution_count": 31,
   "id": "0b23eaa6",
   "metadata": {},
   "outputs": [
    {
     "data": {
      "text/plain": [
       "'Furqaan Shafi'"
      ]
     },
     "execution_count": 31,
     "metadata": {},
     "output_type": "execute_result"
    }
   ],
   "source": [
    "'Furqaan'+' '+'Shafi'"
   ]
  },
  {
   "cell_type": "code",
   "execution_count": 32,
   "id": "a3f14952",
   "metadata": {},
   "outputs": [
    {
     "name": "stdout",
     "output_type": "stream",
     "text": [
      "enter a number 10\n"
     ]
    }
   ],
   "source": [
    "a=input(\"enter a number \")  # input ftn takes values as string"
   ]
  },
  {
   "cell_type": "code",
   "execution_count": 33,
   "id": "bdcf9664",
   "metadata": {},
   "outputs": [
    {
     "data": {
      "text/plain": [
       "'10'"
      ]
     },
     "execution_count": 33,
     "metadata": {},
     "output_type": "execute_result"
    }
   ],
   "source": [
    "a"
   ]
  },
  {
   "cell_type": "code",
   "execution_count": 34,
   "id": "1eacf2bf",
   "metadata": {},
   "outputs": [
    {
     "data": {
      "text/plain": [
       "str"
      ]
     },
     "execution_count": 34,
     "metadata": {},
     "output_type": "execute_result"
    }
   ],
   "source": [
    "type(a)"
   ]
  },
  {
   "cell_type": "code",
   "execution_count": 35,
   "id": "d4270972",
   "metadata": {},
   "outputs": [
    {
     "name": "stdout",
     "output_type": "stream",
     "text": [
      "enter 1st number 55\n",
      "enter 2nd number 34\n",
      "5534\n"
     ]
    }
   ],
   "source": [
    "num1=input(\"enter 1st number \") ##used to take dynamic values from user\n",
    "num2=input(\"enter 2nd number \")\n",
    "summ=num1+num2\n",
    "print(summ)    # here string concatination happens"
   ]
  },
  {
   "cell_type": "code",
   "execution_count": 36,
   "id": "5241c805",
   "metadata": {},
   "outputs": [
    {
     "name": "stdout",
     "output_type": "stream",
     "text": [
      "enter 1st number 55\n",
      "enter 2nd number 34\n",
      "89\n"
     ]
    }
   ],
   "source": [
    "num1=int(input(\"enter 1st number \")) ##typecasted i.e converted string to int\n",
    "num2=int(input(\"enter 2nd number \"))\n",
    "summ=num1+num2\n",
    "print(summ)  "
   ]
  },
  {
   "cell_type": "code",
   "execution_count": 37,
   "id": "437220b3",
   "metadata": {},
   "outputs": [
    {
     "name": "stdout",
     "output_type": "stream",
     "text": [
      "enter 1st number 33\n",
      "enter 2nd number 22.3\n"
     ]
    },
    {
     "ename": "ValueError",
     "evalue": "invalid literal for int() with base 10: '22.3'",
     "output_type": "error",
     "traceback": [
      "\u001b[1;31m---------------------------------------------------------------------------\u001b[0m",
      "\u001b[1;31mValueError\u001b[0m                                Traceback (most recent call last)",
      "\u001b[1;32m~\\AppData\\Local\\Temp\\ipykernel_18584\\3461254877.py\u001b[0m in \u001b[0;36m<module>\u001b[1;34m\u001b[0m\n\u001b[0;32m      1\u001b[0m \u001b[0mnum1\u001b[0m\u001b[1;33m=\u001b[0m\u001b[0mint\u001b[0m\u001b[1;33m(\u001b[0m\u001b[0minput\u001b[0m\u001b[1;33m(\u001b[0m\u001b[1;34m\"enter 1st number \"\u001b[0m\u001b[1;33m)\u001b[0m\u001b[1;33m)\u001b[0m \u001b[1;31m##typecaste\u001b[0m\u001b[1;33m\u001b[0m\u001b[1;33m\u001b[0m\u001b[0m\n\u001b[1;32m----> 2\u001b[1;33m \u001b[0mnum2\u001b[0m\u001b[1;33m=\u001b[0m\u001b[0mint\u001b[0m\u001b[1;33m(\u001b[0m\u001b[0minput\u001b[0m\u001b[1;33m(\u001b[0m\u001b[1;34m\"enter 2nd number \"\u001b[0m\u001b[1;33m)\u001b[0m\u001b[1;33m)\u001b[0m\u001b[1;33m\u001b[0m\u001b[1;33m\u001b[0m\u001b[0m\n\u001b[0m\u001b[0;32m      3\u001b[0m \u001b[0msumm\u001b[0m\u001b[1;33m=\u001b[0m\u001b[0mnum1\u001b[0m\u001b[1;33m+\u001b[0m\u001b[0mnum2\u001b[0m\u001b[1;33m\u001b[0m\u001b[1;33m\u001b[0m\u001b[0m\n\u001b[0;32m      4\u001b[0m \u001b[0mprint\u001b[0m\u001b[1;33m(\u001b[0m\u001b[0msumm\u001b[0m\u001b[1;33m)\u001b[0m\u001b[1;33m\u001b[0m\u001b[1;33m\u001b[0m\u001b[0m\n",
      "\u001b[1;31mValueError\u001b[0m: invalid literal for int() with base 10: '22.3'"
     ]
    }
   ],
   "source": [
    "num1=int(input(\"enter 1st number \")) ##typecaste\n",
    "num2=int(input(\"enter 2nd number \"))\n",
    "summ=num1+num2\n",
    "print(summ)          # error as num2 will accept only in values"
   ]
  },
  {
   "cell_type": "code",
   "execution_count": 38,
   "id": "c8636f04",
   "metadata": {},
   "outputs": [
    {
     "name": "stdout",
     "output_type": "stream",
     "text": [
      "enter 1st number 33\n",
      "enter 2nd number 22.5\n",
      "55.5\n"
     ]
    }
   ],
   "source": [
    "num1=int(input(\"enter 1st number \")) ##typecaste\n",
    "num2=float(input(\"enter 2nd number \"))   ## typecaste to float value\n",
    "summ=num1+num2\n",
    "print(summ)"
   ]
  },
  {
   "cell_type": "code",
   "execution_count": 39,
   "id": "f395a9cb",
   "metadata": {},
   "outputs": [
    {
     "data": {
      "text/plain": [
       "int"
      ]
     },
     "execution_count": 39,
     "metadata": {},
     "output_type": "execute_result"
    }
   ],
   "source": [
    "type(num1)"
   ]
  },
  {
   "cell_type": "code",
   "execution_count": 40,
   "id": "2f56eda6",
   "metadata": {},
   "outputs": [
    {
     "data": {
      "text/plain": [
       "float"
      ]
     },
     "execution_count": 40,
     "metadata": {},
     "output_type": "execute_result"
    }
   ],
   "source": [
    "type(num2)"
   ]
  },
  {
   "cell_type": "code",
   "execution_count": 41,
   "id": "5d1dd528",
   "metadata": {},
   "outputs": [
    {
     "data": {
      "text/plain": [
       "float"
      ]
     },
     "execution_count": 41,
     "metadata": {},
     "output_type": "execute_result"
    }
   ],
   "source": [
    "type(summ)"
   ]
  },
  {
   "cell_type": "code",
   "execution_count": 43,
   "id": "f3300b15",
   "metadata": {},
   "outputs": [
    {
     "name": "stdout",
     "output_type": "stream",
     "text": [
      "enter 1st number 33\n",
      "enter an operation /\n",
      "enter 2nd number 4\n",
      "8.25\n"
     ]
    }
   ],
   "source": [
    "##designing calculator\n",
    "\n",
    "num1=float(input(\"enter 1st number \"))\n",
    "operation=input(\"enter an operation \")\n",
    "num2=float(input(\"enter 2nd number \"))\n",
    "if operation=='+':\n",
    "    print(num1+num2)\n",
    "elif operation=='-':\n",
    "    print(num1-num2)\n",
    "elif operation=='/':\n",
    "    print(num1/num2)\n",
    "elif operation=='*':\n",
    "    print(num1*num2)\n",
    "elif operation=='%':\n",
    "    print(num1%num2)\n",
    "else:\n",
    "    print(\"wrong operation,enter a correct operation\")"
   ]
  },
  {
   "cell_type": "code",
   "execution_count": 46,
   "id": "1186f51c",
   "metadata": {},
   "outputs": [
    {
     "data": {
      "text/plain": [
       "0"
      ]
     },
     "execution_count": 46,
     "metadata": {},
     "output_type": "execute_result"
    }
   ],
   "source": [
    "33%3 #returns the reminder of 33/3"
   ]
  },
  {
   "cell_type": "code",
   "execution_count": 47,
   "id": "f6d73c58",
   "metadata": {},
   "outputs": [
    {
     "data": {
      "text/plain": [
       "1"
      ]
     },
     "execution_count": 47,
     "metadata": {},
     "output_type": "execute_result"
    }
   ],
   "source": [
    "33%2"
   ]
  },
  {
   "cell_type": "code",
   "execution_count": 49,
   "id": "646ca29b",
   "metadata": {},
   "outputs": [
    {
     "data": {
      "text/plain": [
       "11"
      ]
     },
     "execution_count": 49,
     "metadata": {},
     "output_type": "execute_result"
    }
   ],
   "source": [
    "33//3 # returns the quotient"
   ]
  },
  {
   "cell_type": "code",
   "execution_count": 51,
   "id": "b3f91bfa",
   "metadata": {},
   "outputs": [
    {
     "data": {
      "text/plain": [
       "9"
      ]
     },
     "execution_count": 51,
     "metadata": {},
     "output_type": "execute_result"
    }
   ],
   "source": [
    "3**2  # 3*2,,,,3 raised to pwr 2"
   ]
  },
  {
   "cell_type": "code",
   "execution_count": 52,
   "id": "32285e17",
   "metadata": {},
   "outputs": [
    {
     "data": {
      "text/plain": [
       "27"
      ]
     },
     "execution_count": 52,
     "metadata": {},
     "output_type": "execute_result"
    }
   ],
   "source": [
    "3**3 ## 3 raised to pwr 3"
   ]
  },
  {
   "cell_type": "markdown",
   "id": "0ad03fbd",
   "metadata": {},
   "source": [
    "### list"
   ]
  },
  {
   "cell_type": "code",
   "execution_count": 53,
   "id": "a3f2963d",
   "metadata": {},
   "outputs": [
    {
     "ename": "NameError",
     "evalue": "name 'LIST' is not defined",
     "output_type": "error",
     "traceback": [
      "\u001b[1;31m---------------------------------------------------------------------------\u001b[0m",
      "\u001b[1;31mNameError\u001b[0m                                 Traceback (most recent call last)",
      "\u001b[1;32m~\\AppData\\Local\\Temp\\ipykernel_18584\\1226588391.py\u001b[0m in \u001b[0;36m<module>\u001b[1;34m\u001b[0m\n\u001b[1;32m----> 1\u001b[1;33m \u001b[0mLIST\u001b[0m\u001b[1;33m[\u001b[0m\u001b[1;34m'FSB'\u001b[0m\u001b[1;33m]\u001b[0m\u001b[1;33m\u001b[0m\u001b[1;33m\u001b[0m\u001b[0m\n\u001b[0m",
      "\u001b[1;31mNameError\u001b[0m: name 'LIST' is not defined"
     ]
    }
   ],
   "source": [
    "LIST['FSB']   # python is case sensitive,so error"
   ]
  },
  {
   "cell_type": "code",
   "execution_count": 54,
   "id": "b71c86ae",
   "metadata": {},
   "outputs": [
    {
     "ename": "NameError",
     "evalue": "name 'LIST' is not defined",
     "output_type": "error",
     "traceback": [
      "\u001b[1;31m---------------------------------------------------------------------------\u001b[0m",
      "\u001b[1;31mNameError\u001b[0m                                 Traceback (most recent call last)",
      "\u001b[1;32m~\\AppData\\Local\\Temp\\ipykernel_18584\\3812464464.py\u001b[0m in \u001b[0;36m<module>\u001b[1;34m\u001b[0m\n\u001b[1;32m----> 1\u001b[1;33m \u001b[0mLIST\u001b[0m\u001b[1;33m(\u001b[0m\u001b[1;34m'FSB'\u001b[0m\u001b[1;33m)\u001b[0m\u001b[1;33m\u001b[0m\u001b[1;33m\u001b[0m\u001b[0m\n\u001b[0m",
      "\u001b[1;31mNameError\u001b[0m: name 'LIST' is not defined"
     ]
    }
   ],
   "source": [
    "LIST('FSB') #error"
   ]
  },
  {
   "cell_type": "code",
   "execution_count": 55,
   "id": "8bc67f0f",
   "metadata": {},
   "outputs": [
    {
     "data": {
      "text/plain": [
       "['f', 's', 'b', ' ']"
      ]
     },
     "execution_count": 55,
     "metadata": {},
     "output_type": "execute_result"
    }
   ],
   "source": [
    "list('fsb ') # takes space as character as well,gotta b carefull"
   ]
  },
  {
   "cell_type": "code",
   "execution_count": 56,
   "id": "c20a572b",
   "metadata": {},
   "outputs": [
    {
     "data": {
      "text/plain": [
       "['f', 's', 'b']"
      ]
     },
     "execution_count": 56,
     "metadata": {},
     "output_type": "execute_result"
    }
   ],
   "source": [
    "list('fsb')"
   ]
  },
  {
   "cell_type": "code",
   "execution_count": 57,
   "id": "8018d45c",
   "metadata": {},
   "outputs": [],
   "source": [
    "a=list('fsb')"
   ]
  },
  {
   "cell_type": "code",
   "execution_count": 58,
   "id": "1393c3cb",
   "metadata": {},
   "outputs": [
    {
     "data": {
      "text/plain": [
       "['f', 's', 'b']"
      ]
     },
     "execution_count": 58,
     "metadata": {},
     "output_type": "execute_result"
    }
   ],
   "source": [
    "a"
   ]
  },
  {
   "cell_type": "markdown",
   "id": "958c48f4",
   "metadata": {},
   "source": [
    "Slicing\n",
    "\n",
    "You can return a range of characters by using the slice syntax.\n",
    "\n",
    "Specify the start index and the end index, separated by a colon, to return a part of the string."
   ]
  },
  {
   "cell_type": "code",
   "execution_count": 59,
   "id": "94996273",
   "metadata": {},
   "outputs": [
    {
     "data": {
      "text/plain": [
       "'f'"
      ]
     },
     "execution_count": 59,
     "metadata": {},
     "output_type": "execute_result"
    }
   ],
   "source": [
    "a[0]"
   ]
  },
  {
   "cell_type": "code",
   "execution_count": 60,
   "id": "c498b70f",
   "metadata": {},
   "outputs": [
    {
     "data": {
      "text/plain": [
       "3"
      ]
     },
     "execution_count": 60,
     "metadata": {},
     "output_type": "execute_result"
    }
   ],
   "source": [
    "len(a)"
   ]
  },
  {
   "cell_type": "code",
   "execution_count": 61,
   "id": "6d469715",
   "metadata": {},
   "outputs": [
    {
     "ename": "IndexError",
     "evalue": "list index out of range",
     "output_type": "error",
     "traceback": [
      "\u001b[1;31m---------------------------------------------------------------------------\u001b[0m",
      "\u001b[1;31mIndexError\u001b[0m                                Traceback (most recent call last)",
      "\u001b[1;32m~\\AppData\\Local\\Temp\\ipykernel_18584\\3565805452.py\u001b[0m in \u001b[0;36m<module>\u001b[1;34m\u001b[0m\n\u001b[1;32m----> 1\u001b[1;33m \u001b[0ma\u001b[0m\u001b[1;33m[\u001b[0m\u001b[1;36m3\u001b[0m\u001b[1;33m]\u001b[0m\u001b[1;33m\u001b[0m\u001b[1;33m\u001b[0m\u001b[0m\n\u001b[0m",
      "\u001b[1;31mIndexError\u001b[0m: list index out of range"
     ]
    }
   ],
   "source": [
    "a[3]  #error"
   ]
  },
  {
   "cell_type": "code",
   "execution_count": 62,
   "id": "1f1b4e7a",
   "metadata": {},
   "outputs": [
    {
     "data": {
      "text/plain": [
       "'b'"
      ]
     },
     "execution_count": 62,
     "metadata": {},
     "output_type": "execute_result"
    }
   ],
   "source": [
    "a[2]"
   ]
  },
  {
   "cell_type": "code",
   "execution_count": 64,
   "id": "b78f6953",
   "metadata": {},
   "outputs": [
    {
     "data": {
      "text/plain": [
       "3"
      ]
     },
     "execution_count": 64,
     "metadata": {},
     "output_type": "execute_result"
    }
   ],
   "source": [
    "len(a)  # returns the length of string"
   ]
  },
  {
   "cell_type": "code",
   "execution_count": 63,
   "id": "9f77542b",
   "metadata": {},
   "outputs": [
    {
     "data": {
      "text/plain": [
       "'b'"
      ]
     },
     "execution_count": 63,
     "metadata": {},
     "output_type": "execute_result"
    }
   ],
   "source": [
    "a[len(a)-1]"
   ]
  },
  {
   "cell_type": "code",
   "execution_count": 65,
   "id": "2fb2c810",
   "metadata": {},
   "outputs": [
    {
     "data": {
      "text/plain": [
       "'s'"
      ]
     },
     "execution_count": 65,
     "metadata": {},
     "output_type": "execute_result"
    }
   ],
   "source": [
    "a[-2]"
   ]
  },
  {
   "cell_type": "code",
   "execution_count": 84,
   "id": "589d9ddc",
   "metadata": {},
   "outputs": [],
   "source": [
    "a=list('independence')"
   ]
  },
  {
   "cell_type": "code",
   "execution_count": 85,
   "id": "1c7eb489",
   "metadata": {},
   "outputs": [
    {
     "data": {
      "text/plain": [
       "['i', 'n', 'd', 'e', 'p', 'e', 'n', 'd', 'e', 'n', 'c', 'e']"
      ]
     },
     "execution_count": 85,
     "metadata": {},
     "output_type": "execute_result"
    }
   ],
   "source": [
    "a"
   ]
  },
  {
   "cell_type": "code",
   "execution_count": 86,
   "id": "71440773",
   "metadata": {},
   "outputs": [
    {
     "data": {
      "text/plain": [
       "'p'"
      ]
     },
     "execution_count": 86,
     "metadata": {},
     "output_type": "execute_result"
    }
   ],
   "source": [
    "a[4]"
   ]
  },
  {
   "cell_type": "code",
   "execution_count": 87,
   "id": "c75691e7",
   "metadata": {},
   "outputs": [
    {
     "data": {
      "text/plain": [
       "'e'"
      ]
     },
     "execution_count": 87,
     "metadata": {},
     "output_type": "execute_result"
    }
   ],
   "source": [
    "a[-1]"
   ]
  },
  {
   "cell_type": "code",
   "execution_count": 88,
   "id": "ff8eb5c6",
   "metadata": {},
   "outputs": [
    {
     "data": {
      "text/plain": [
       "['i', 'n', 'd', 'e']"
      ]
     },
     "execution_count": 88,
     "metadata": {},
     "output_type": "execute_result"
    }
   ],
   "source": [
    "a[0:4]  # end exclusive"
   ]
  },
  {
   "cell_type": "code",
   "execution_count": 89,
   "id": "9031922b",
   "metadata": {},
   "outputs": [
    {
     "data": {
      "text/plain": [
       "['i', 'n', 'd', 'e', 'p', 'e', 'n', 'd', 'e', 'n', 'c', 'e']"
      ]
     },
     "execution_count": 89,
     "metadata": {},
     "output_type": "execute_result"
    }
   ],
   "source": [
    "a[::1]"
   ]
  },
  {
   "cell_type": "code",
   "execution_count": 90,
   "id": "acde2b6b",
   "metadata": {},
   "outputs": [
    {
     "data": {
      "text/plain": [
       "['i', 'd', 'p', 'n', 'e', 'c']"
      ]
     },
     "execution_count": 90,
     "metadata": {},
     "output_type": "execute_result"
    }
   ],
   "source": [
    "a[::2] ##every alternate character"
   ]
  },
  {
   "cell_type": "code",
   "execution_count": 91,
   "id": "cb8bebd5",
   "metadata": {},
   "outputs": [
    {
     "data": {
      "text/plain": [
       "12"
      ]
     },
     "execution_count": 91,
     "metadata": {},
     "output_type": "execute_result"
    }
   ],
   "source": [
    "len(a)"
   ]
  },
  {
   "cell_type": "code",
   "execution_count": 92,
   "id": "d419327f",
   "metadata": {},
   "outputs": [
    {
     "ename": "IndexError",
     "evalue": "list index out of range",
     "output_type": "error",
     "traceback": [
      "\u001b[1;31m---------------------------------------------------------------------------\u001b[0m",
      "\u001b[1;31mIndexError\u001b[0m                                Traceback (most recent call last)",
      "\u001b[1;32m~\\AppData\\Local\\Temp\\ipykernel_18584\\433484699.py\u001b[0m in \u001b[0;36m<module>\u001b[1;34m\u001b[0m\n\u001b[1;32m----> 1\u001b[1;33m \u001b[0ma\u001b[0m\u001b[1;33m[\u001b[0m\u001b[1;36m12\u001b[0m\u001b[1;33m]\u001b[0m \u001b[1;31m# error as counting starts from 0 so end would be 11\u001b[0m\u001b[1;33m\u001b[0m\u001b[1;33m\u001b[0m\u001b[0m\n\u001b[0m",
      "\u001b[1;31mIndexError\u001b[0m: list index out of range"
     ]
    }
   ],
   "source": [
    "a[12] # error as counting starts from 0 so end would be 11 "
   ]
  },
  {
   "cell_type": "code",
   "execution_count": 93,
   "id": "ba0dd13e",
   "metadata": {},
   "outputs": [
    {
     "data": {
      "text/plain": [
       "'e'"
      ]
     },
     "execution_count": 93,
     "metadata": {},
     "output_type": "execute_result"
    }
   ],
   "source": [
    "a[11]"
   ]
  },
  {
   "cell_type": "code",
   "execution_count": 94,
   "id": "e00f9b1c",
   "metadata": {},
   "outputs": [
    {
     "data": {
      "text/plain": [
       "['e', 'c', 'n', 'e', 'd', 'n', 'e', 'p', 'e', 'd', 'n', 'i']"
      ]
     },
     "execution_count": 94,
     "metadata": {},
     "output_type": "execute_result"
    }
   ],
   "source": [
    "a[::-1] # reverse a string,its nt saved internally"
   ]
  },
  {
   "cell_type": "code",
   "execution_count": 95,
   "id": "ceafe535",
   "metadata": {},
   "outputs": [
    {
     "data": {
      "text/plain": [
       "['i', 'n', 'd', 'e', 'p', 'e', 'n', 'd', 'e', 'n', 'c', 'e']"
      ]
     },
     "execution_count": 95,
     "metadata": {},
     "output_type": "execute_result"
    }
   ],
   "source": [
    "a"
   ]
  },
  {
   "cell_type": "code",
   "execution_count": 96,
   "id": "d31275e5",
   "metadata": {},
   "outputs": [],
   "source": [
    "b=a[::-1]  # reverse a string"
   ]
  },
  {
   "cell_type": "code",
   "execution_count": 97,
   "id": "719f8c56",
   "metadata": {},
   "outputs": [
    {
     "data": {
      "text/plain": [
       "['e', 'c', 'n', 'e', 'd', 'n', 'e', 'p', 'e', 'd', 'n', 'i']"
      ]
     },
     "execution_count": 97,
     "metadata": {},
     "output_type": "execute_result"
    }
   ],
   "source": [
    "b"
   ]
  },
  {
   "cell_type": "code",
   "execution_count": 98,
   "id": "8571bc31",
   "metadata": {},
   "outputs": [
    {
     "data": {
      "text/plain": [
       "['i', 'n', 'd', 'e', 'p', 'e', 'n', 'd', 'e', 'n', 'c', 'e']"
      ]
     },
     "execution_count": 98,
     "metadata": {},
     "output_type": "execute_result"
    }
   ],
   "source": [
    "a"
   ]
  },
  {
   "cell_type": "code",
   "execution_count": 99,
   "id": "f9c137d2",
   "metadata": {},
   "outputs": [],
   "source": [
    "a=\"hey how are you\"\n",
    "b=a[::-1]"
   ]
  },
  {
   "cell_type": "code",
   "execution_count": 100,
   "id": "2ee2d208",
   "metadata": {},
   "outputs": [
    {
     "data": {
      "text/plain": [
       "'hey how are you'"
      ]
     },
     "execution_count": 100,
     "metadata": {},
     "output_type": "execute_result"
    }
   ],
   "source": [
    "a"
   ]
  },
  {
   "cell_type": "code",
   "execution_count": 101,
   "id": "c27c9b2c",
   "metadata": {},
   "outputs": [
    {
     "data": {
      "text/plain": [
       "'uoy era woh yeh'"
      ]
     },
     "execution_count": 101,
     "metadata": {},
     "output_type": "execute_result"
    }
   ],
   "source": [
    "b"
   ]
  },
  {
   "cell_type": "code",
   "execution_count": 102,
   "id": "ca6df0cb",
   "metadata": {},
   "outputs": [
    {
     "data": {
      "text/plain": [
       "str"
      ]
     },
     "execution_count": 102,
     "metadata": {},
     "output_type": "execute_result"
    }
   ],
   "source": [
    "type(a)"
   ]
  },
  {
   "cell_type": "code",
   "execution_count": 103,
   "id": "6265246d",
   "metadata": {},
   "outputs": [
    {
     "data": {
      "text/plain": [
       "str"
      ]
     },
     "execution_count": 103,
     "metadata": {},
     "output_type": "execute_result"
    }
   ],
   "source": [
    "type(b)"
   ]
  },
  {
   "cell_type": "code",
   "execution_count": 104,
   "id": "bc21a1cf",
   "metadata": {},
   "outputs": [],
   "source": [
    "a='furqaan'"
   ]
  },
  {
   "cell_type": "code",
   "execution_count": 105,
   "id": "ffdda6aa",
   "metadata": {},
   "outputs": [
    {
     "data": {
      "text/plain": [
       "'r'"
      ]
     },
     "execution_count": 105,
     "metadata": {},
     "output_type": "execute_result"
    }
   ],
   "source": [
    "a[2]"
   ]
  },
  {
   "cell_type": "code",
   "execution_count": 107,
   "id": "771edb16",
   "metadata": {},
   "outputs": [
    {
     "ename": "TypeError",
     "evalue": "'str' object does not support item assignment",
     "output_type": "error",
     "traceback": [
      "\u001b[1;31m---------------------------------------------------------------------------\u001b[0m",
      "\u001b[1;31mTypeError\u001b[0m                                 Traceback (most recent call last)",
      "\u001b[1;32m~\\AppData\\Local\\Temp\\ipykernel_18584\\3904754911.py\u001b[0m in \u001b[0;36m<module>\u001b[1;34m\u001b[0m\n\u001b[1;32m----> 1\u001b[1;33m \u001b[0ma\u001b[0m\u001b[1;33m[\u001b[0m\u001b[1;36m2\u001b[0m\u001b[1;33m]\u001b[0m\u001b[1;33m=\u001b[0m\u001b[1;34m'e'\u001b[0m  \u001b[1;31m# error----- string is immutable\u001b[0m\u001b[1;33m\u001b[0m\u001b[1;33m\u001b[0m\u001b[0m\n\u001b[0m",
      "\u001b[1;31mTypeError\u001b[0m: 'str' object does not support item assignment"
     ]
    }
   ],
   "source": [
    "a[2]='e'  # error----- string is immutable "
   ]
  },
  {
   "cell_type": "code",
   "execution_count": 110,
   "id": "1119473f",
   "metadata": {},
   "outputs": [
    {
     "data": {
      "text/plain": [
       "['f', 'u', 'r', 'q', 'a', 'a', 'n']"
      ]
     },
     "execution_count": 110,
     "metadata": {},
     "output_type": "execute_result"
    }
   ],
   "source": [
    "cont_str=list(a)\n",
    "cont_str"
   ]
  },
  {
   "cell_type": "code",
   "execution_count": 111,
   "id": "4084b39a",
   "metadata": {},
   "outputs": [
    {
     "data": {
      "text/plain": [
       "'r'"
      ]
     },
     "execution_count": 111,
     "metadata": {},
     "output_type": "execute_result"
    }
   ],
   "source": [
    "cont_str[2]"
   ]
  },
  {
   "cell_type": "code",
   "execution_count": 112,
   "id": "ecc16e03",
   "metadata": {},
   "outputs": [],
   "source": [
    "cont_str[2]='s'  # list----is muttable"
   ]
  },
  {
   "cell_type": "code",
   "execution_count": 113,
   "id": "d642ba5c",
   "metadata": {},
   "outputs": [
    {
     "data": {
      "text/plain": [
       "['f', 'u', 's', 'q', 'a', 'a', 'n']"
      ]
     },
     "execution_count": 113,
     "metadata": {},
     "output_type": "execute_result"
    }
   ],
   "source": [
    "cont_str"
   ]
  },
  {
   "cell_type": "code",
   "execution_count": 114,
   "id": "d72276ef",
   "metadata": {},
   "outputs": [],
   "source": [
    "empty_list=[] ##empty list creation"
   ]
  },
  {
   "cell_type": "code",
   "execution_count": 116,
   "id": "ccabdcca",
   "metadata": {},
   "outputs": [
    {
     "data": {
      "text/plain": [
       "list"
      ]
     },
     "execution_count": 116,
     "metadata": {},
     "output_type": "execute_result"
    }
   ],
   "source": [
    "type(empty_list)"
   ]
  },
  {
   "cell_type": "code",
   "execution_count": 117,
   "id": "b4363ce9",
   "metadata": {},
   "outputs": [
    {
     "data": {
      "text/plain": [
       "[]"
      ]
     },
     "execution_count": 117,
     "metadata": {},
     "output_type": "execute_result"
    }
   ],
   "source": [
    "empty_list\n"
   ]
  },
  {
   "cell_type": "code",
   "execution_count": 118,
   "id": "f904972d",
   "metadata": {},
   "outputs": [],
   "source": [
    "list_obj=['furqaan',22,'d','jazlan',333,'furqaan' ]"
   ]
  },
  {
   "cell_type": "code",
   "execution_count": 119,
   "id": "f0244961",
   "metadata": {},
   "outputs": [
    {
     "data": {
      "text/plain": [
       "['furqaan', 22, 'd', 'jazlan', 333, 'furqaan']"
      ]
     },
     "execution_count": 119,
     "metadata": {},
     "output_type": "execute_result"
    }
   ],
   "source": [
    "list_obj"
   ]
  },
  {
   "cell_type": "code",
   "execution_count": 121,
   "id": "c660eb4f",
   "metadata": {},
   "outputs": [],
   "source": [
    "list_obj=['furqaan',22,'d',['jazlan',333,'furqaan'] ]   # list within list"
   ]
  },
  {
   "cell_type": "code",
   "execution_count": 122,
   "id": "cba09e7e",
   "metadata": {},
   "outputs": [
    {
     "data": {
      "text/plain": [
       "['furqaan', 22, 'd', ['jazlan', 333, 'furqaan']]"
      ]
     },
     "execution_count": 122,
     "metadata": {},
     "output_type": "execute_result"
    }
   ],
   "source": [
    "list_obj"
   ]
  },
  {
   "cell_type": "code",
   "execution_count": 123,
   "id": "3e4494de",
   "metadata": {},
   "outputs": [
    {
     "data": {
      "text/plain": [
       "4"
      ]
     },
     "execution_count": 123,
     "metadata": {},
     "output_type": "execute_result"
    }
   ],
   "source": [
    "len(list_obj)"
   ]
  },
  {
   "cell_type": "code",
   "execution_count": 124,
   "id": "3aef4694",
   "metadata": {},
   "outputs": [
    {
     "data": {
      "text/plain": [
       "['jazlan', 333, 'furqaan']"
      ]
     },
     "execution_count": 124,
     "metadata": {},
     "output_type": "execute_result"
    }
   ],
   "source": [
    "list_obj[3]"
   ]
  },
  {
   "cell_type": "code",
   "execution_count": 125,
   "id": "171b6f43",
   "metadata": {},
   "outputs": [
    {
     "data": {
      "text/plain": [
       "333"
      ]
     },
     "execution_count": 125,
     "metadata": {},
     "output_type": "execute_result"
    }
   ],
   "source": [
    "list_obj[3][1]"
   ]
  },
  {
   "cell_type": "code",
   "execution_count": 126,
   "id": "64c1d449",
   "metadata": {},
   "outputs": [
    {
     "data": {
      "text/plain": [
       "'jazlan'"
      ]
     },
     "execution_count": 126,
     "metadata": {},
     "output_type": "execute_result"
    }
   ],
   "source": [
    "list_obj[-1][0]"
   ]
  },
  {
   "cell_type": "code",
   "execution_count": 127,
   "id": "29358975",
   "metadata": {},
   "outputs": [
    {
     "data": {
      "text/plain": [
       "'furqaan'"
      ]
     },
     "execution_count": 127,
     "metadata": {},
     "output_type": "execute_result"
    }
   ],
   "source": [
    "list_obj[-1][-1] ##btr for computation"
   ]
  },
  {
   "cell_type": "code",
   "execution_count": 128,
   "id": "614ad52e",
   "metadata": {},
   "outputs": [],
   "source": [
    "l=['f','a','b']"
   ]
  },
  {
   "cell_type": "code",
   "execution_count": 129,
   "id": "6c0bf585",
   "metadata": {},
   "outputs": [],
   "source": [
    "l.append(\"furqaan\")"
   ]
  },
  {
   "cell_type": "code",
   "execution_count": 130,
   "id": "3b7af036",
   "metadata": {},
   "outputs": [
    {
     "data": {
      "text/plain": [
       "['f', 'a', 'b', 'furqaan']"
      ]
     },
     "execution_count": 130,
     "metadata": {},
     "output_type": "execute_result"
    }
   ],
   "source": [
    "l\n"
   ]
  },
  {
   "cell_type": "code",
   "execution_count": 131,
   "id": "1d76a24f",
   "metadata": {},
   "outputs": [],
   "source": [
    "l.insert(3,'ssss')"
   ]
  },
  {
   "cell_type": "code",
   "execution_count": 132,
   "id": "f48cca2d",
   "metadata": {},
   "outputs": [
    {
     "data": {
      "text/plain": [
       "['f', 'a', 'b', 'ssss', 'furqaan']"
      ]
     },
     "execution_count": 132,
     "metadata": {},
     "output_type": "execute_result"
    }
   ],
   "source": [
    "l"
   ]
  },
  {
   "cell_type": "markdown",
   "id": "14cae263",
   "metadata": {},
   "source": [
    "task add even and odd in seperate lists"
   ]
  },
  {
   "cell_type": "code",
   "execution_count": 133,
   "id": "7b7aa748",
   "metadata": {},
   "outputs": [],
   "source": [
    "Listofnumbers=[2,3,4,5,6,7,8,9,10,11,12,13,14,15]"
   ]
  },
  {
   "cell_type": "code",
   "execution_count": 134,
   "id": "49da0870",
   "metadata": {},
   "outputs": [
    {
     "data": {
      "text/plain": [
       "list"
      ]
     },
     "execution_count": 134,
     "metadata": {},
     "output_type": "execute_result"
    }
   ],
   "source": [
    "type(Listofnumbers)"
   ]
  },
  {
   "cell_type": "code",
   "execution_count": 135,
   "id": "d2c646b4",
   "metadata": {},
   "outputs": [
    {
     "data": {
      "text/plain": [
       "[2, 4, 6, 8, 10, 12, 14]"
      ]
     },
     "execution_count": 135,
     "metadata": {},
     "output_type": "execute_result"
    }
   ],
   "source": [
    "Listofnumbers[::2]"
   ]
  },
  {
   "cell_type": "code",
   "execution_count": 136,
   "id": "575a0bd6",
   "metadata": {},
   "outputs": [
    {
     "data": {
      "text/plain": [
       "[3, 5, 7, 9, 11, 13, 15]"
      ]
     },
     "execution_count": 136,
     "metadata": {},
     "output_type": "execute_result"
    }
   ],
   "source": [
    "Listofnumbers[1::2]"
   ]
  },
  {
   "cell_type": "code",
   "execution_count": 137,
   "id": "fc530e7a",
   "metadata": {},
   "outputs": [],
   "source": [
    "a=[]\n",
    "b=[]"
   ]
  },
  {
   "cell_type": "code",
   "execution_count": 138,
   "id": "edc75973",
   "metadata": {},
   "outputs": [
    {
     "data": {
      "text/plain": [
       "14"
      ]
     },
     "execution_count": 138,
     "metadata": {},
     "output_type": "execute_result"
    }
   ],
   "source": [
    "len(Listofnumbers)"
   ]
  },
  {
   "cell_type": "code",
   "execution_count": 139,
   "id": "4e610ed2",
   "metadata": {},
   "outputs": [
    {
     "data": {
      "text/plain": [
       "[]"
      ]
     },
     "execution_count": 139,
     "metadata": {},
     "output_type": "execute_result"
    }
   ],
   "source": [
    "a"
   ]
  },
  {
   "cell_type": "code",
   "execution_count": null,
   "id": "d235a18f",
   "metadata": {},
   "outputs": [],
   "source": []
  },
  {
   "cell_type": "code",
   "execution_count": 140,
   "id": "966650e1",
   "metadata": {},
   "outputs": [
    {
     "data": {
      "text/plain": [
       "range(0, 14)"
      ]
     },
     "execution_count": 140,
     "metadata": {},
     "output_type": "execute_result"
    }
   ],
   "source": [
    "range(len(Listofnumbers))"
   ]
  },
  {
   "cell_type": "code",
   "execution_count": 143,
   "id": "c4979ff9",
   "metadata": {},
   "outputs": [],
   "source": [
    "for i in range(len(Listofnumbers)):\n",
    "    if Listofnumbers[i]%2==0:\n",
    "        a.append(Listofnumbers[i])\n",
    "    else:\n",
    "        b.append(Listofnumbers[i])"
   ]
  },
  {
   "cell_type": "code",
   "execution_count": 144,
   "id": "8a8ed4d2",
   "metadata": {},
   "outputs": [
    {
     "data": {
      "text/plain": [
       "[2, 4, 6, 8, 10, 12, 14]"
      ]
     },
     "execution_count": 144,
     "metadata": {},
     "output_type": "execute_result"
    }
   ],
   "source": [
    "a"
   ]
  },
  {
   "cell_type": "code",
   "execution_count": 145,
   "id": "28140b65",
   "metadata": {},
   "outputs": [
    {
     "data": {
      "text/plain": [
       "[3, 5, 7, 9, 11, 13, 15]"
      ]
     },
     "execution_count": 145,
     "metadata": {},
     "output_type": "execute_result"
    }
   ],
   "source": [
    "b"
   ]
  },
  {
   "cell_type": "code",
   "execution_count": 146,
   "id": "cd08c315",
   "metadata": {},
   "outputs": [],
   "source": [
    "s='furqaan'"
   ]
  },
  {
   "cell_type": "code",
   "execution_count": 147,
   "id": "7489c8b1",
   "metadata": {},
   "outputs": [
    {
     "data": {
      "text/plain": [
       "3"
      ]
     },
     "execution_count": 147,
     "metadata": {},
     "output_type": "execute_result"
    }
   ],
   "source": [
    "s.find('qaan')\n"
   ]
  },
  {
   "cell_type": "code",
   "execution_count": 148,
   "id": "188cb87b",
   "metadata": {},
   "outputs": [
    {
     "data": {
      "text/plain": [
       "-1"
      ]
     },
     "execution_count": 148,
     "metadata": {},
     "output_type": "execute_result"
    }
   ],
   "source": [
    "s.find('l')"
   ]
  },
  {
   "cell_type": "code",
   "execution_count": 149,
   "id": "c7a247a5",
   "metadata": {},
   "outputs": [],
   "source": [
    "s='abcjdefjghijkl'"
   ]
  },
  {
   "cell_type": "code",
   "execution_count": 150,
   "id": "c39b4c07",
   "metadata": {},
   "outputs": [
    {
     "data": {
      "text/plain": [
       "['abc', 'def', 'ghi', 'kl']"
      ]
     },
     "execution_count": 150,
     "metadata": {},
     "output_type": "execute_result"
    }
   ],
   "source": [
    "s.split('j')\n"
   ]
  },
  {
   "cell_type": "code",
   "execution_count": 151,
   "id": "77626332",
   "metadata": {},
   "outputs": [
    {
     "data": {
      "text/plain": [
       "('abc', 'j', 'defjghijkl')"
      ]
     },
     "execution_count": 151,
     "metadata": {},
     "output_type": "execute_result"
    }
   ],
   "source": [
    "s.partition(\"j\")"
   ]
  },
  {
   "cell_type": "code",
   "execution_count": 152,
   "id": "5c38ce08",
   "metadata": {},
   "outputs": [],
   "source": [
    "f='furqaan'"
   ]
  },
  {
   "cell_type": "code",
   "execution_count": 154,
   "id": "ddbbe2a2",
   "metadata": {},
   "outputs": [
    {
     "data": {
      "text/plain": [
       "'**furqaan**'"
      ]
     },
     "execution_count": 154,
     "metadata": {},
     "output_type": "execute_result"
    }
   ],
   "source": [
    "f.center(11,'*')"
   ]
  },
  {
   "cell_type": "code",
   "execution_count": 155,
   "id": "1d1e91ea",
   "metadata": {},
   "outputs": [
    {
     "data": {
      "text/plain": [
       "<reversed at 0x262f18e6220>"
      ]
     },
     "execution_count": 155,
     "metadata": {},
     "output_type": "execute_result"
    }
   ],
   "source": [
    "reversed(f)"
   ]
  },
  {
   "cell_type": "code",
   "execution_count": 156,
   "id": "eb7e33ed",
   "metadata": {},
   "outputs": [],
   "source": [
    "s=reversed(f)"
   ]
  },
  {
   "cell_type": "code",
   "execution_count": 157,
   "id": "2f80c79d",
   "metadata": {},
   "outputs": [
    {
     "data": {
      "text/plain": [
       "<reversed at 0x262f18e6c10>"
      ]
     },
     "execution_count": 157,
     "metadata": {},
     "output_type": "execute_result"
    }
   ],
   "source": [
    "s"
   ]
  },
  {
   "cell_type": "code",
   "execution_count": 158,
   "id": "901abbf7",
   "metadata": {},
   "outputs": [
    {
     "data": {
      "text/plain": [
       "['n', 'a', 'a', 'q', 'r', 'u', 'f']"
      ]
     },
     "execution_count": 158,
     "metadata": {},
     "output_type": "execute_result"
    }
   ],
   "source": [
    "list(s)"
   ]
  },
  {
   "cell_type": "code",
   "execution_count": 159,
   "id": "86ff9175",
   "metadata": {},
   "outputs": [],
   "source": [
    "s=[1,2,3,4,5]"
   ]
  },
  {
   "cell_type": "code",
   "execution_count": 160,
   "id": "07b9b104",
   "metadata": {},
   "outputs": [
    {
     "data": {
      "text/plain": [
       "[1, 2, 3, 4, 5]"
      ]
     },
     "execution_count": 160,
     "metadata": {},
     "output_type": "execute_result"
    }
   ],
   "source": [
    "s"
   ]
  },
  {
   "cell_type": "code",
   "execution_count": 161,
   "id": "1dd07182",
   "metadata": {},
   "outputs": [],
   "source": [
    "s.append([3,4,5,6,7])"
   ]
  },
  {
   "cell_type": "code",
   "execution_count": 162,
   "id": "d96c6155",
   "metadata": {},
   "outputs": [
    {
     "data": {
      "text/plain": [
       "[1, 2, 3, 4, 5, [3, 4, 5, 6, 7]]"
      ]
     },
     "execution_count": 162,
     "metadata": {},
     "output_type": "execute_result"
    }
   ],
   "source": [
    "s"
   ]
  },
  {
   "cell_type": "code",
   "execution_count": 163,
   "id": "bfedeecc",
   "metadata": {},
   "outputs": [],
   "source": [
    "s.extend([3,34,45,5])"
   ]
  },
  {
   "cell_type": "code",
   "execution_count": 164,
   "id": "6cecb94f",
   "metadata": {},
   "outputs": [
    {
     "data": {
      "text/plain": [
       "[1, 2, 3, 4, 5, [3, 4, 5, 6, 7], 3, 34, 45, 5]"
      ]
     },
     "execution_count": 164,
     "metadata": {},
     "output_type": "execute_result"
    }
   ],
   "source": [
    "s\n"
   ]
  },
  {
   "cell_type": "code",
   "execution_count": 165,
   "id": "0845df11",
   "metadata": {},
   "outputs": [],
   "source": [
    "d=[]"
   ]
  },
  {
   "cell_type": "code",
   "execution_count": 166,
   "id": "d4e2a0b5",
   "metadata": {},
   "outputs": [
    {
     "data": {
      "text/plain": [
       "list"
      ]
     },
     "execution_count": 166,
     "metadata": {},
     "output_type": "execute_result"
    }
   ],
   "source": [
    "type(d)"
   ]
  },
  {
   "cell_type": "code",
   "execution_count": 167,
   "id": "8c77443f",
   "metadata": {},
   "outputs": [
    {
     "data": {
      "text/plain": [
       "[3, 4, 5, 6, 7]"
      ]
     },
     "execution_count": 167,
     "metadata": {},
     "output_type": "execute_result"
    }
   ],
   "source": [
    "s[5]"
   ]
  },
  {
   "cell_type": "code",
   "execution_count": 168,
   "id": "524d0cfe",
   "metadata": {},
   "outputs": [
    {
     "data": {
      "text/plain": [
       "6"
      ]
     },
     "execution_count": 168,
     "metadata": {},
     "output_type": "execute_result"
    }
   ],
   "source": [
    "s[5][-2]"
   ]
  },
  {
   "cell_type": "code",
   "execution_count": 169,
   "id": "38b84f42",
   "metadata": {},
   "outputs": [
    {
     "data": {
      "text/plain": [
       "True"
      ]
     },
     "execution_count": 169,
     "metadata": {},
     "output_type": "execute_result"
    }
   ],
   "source": [
    "'f' in 'furqaan'"
   ]
  },
  {
   "cell_type": "code",
   "execution_count": 170,
   "id": "c4112050",
   "metadata": {},
   "outputs": [],
   "source": [
    "str_obj = \"aesbhfwkqfhwjflKDFQWLjrpkil2wnnhlkiwfkqhrpi23ho\""
   ]
  },
  {
   "cell_type": "code",
   "execution_count": 171,
   "id": "2d250922",
   "metadata": {},
   "outputs": [
    {
     "data": {
      "text/plain": [
       "'aesbhfwkqfhwjflKDFQWLjrpkil2wnnhlkiwfkqhrpi23ho'"
      ]
     },
     "execution_count": 171,
     "metadata": {},
     "output_type": "execute_result"
    }
   ],
   "source": [
    "str_obj"
   ]
  },
  {
   "cell_type": "code",
   "execution_count": 172,
   "id": "b323d486",
   "metadata": {},
   "outputs": [
    {
     "data": {
      "text/plain": [
       "6"
      ]
     },
     "execution_count": 172,
     "metadata": {},
     "output_type": "execute_result"
    }
   ],
   "source": [
    "str_obj.find('w') ## index of the first occurrence"
   ]
  },
  {
   "cell_type": "code",
   "execution_count": 173,
   "id": "0b697a9f",
   "metadata": {},
   "outputs": [
    {
     "data": {
      "text/plain": [
       "-1"
      ]
     },
     "execution_count": 173,
     "metadata": {},
     "output_type": "execute_result"
    }
   ],
   "source": [
    "str_obj.find('45') ## if it doesnt exist it returns -1"
   ]
  },
  {
   "cell_type": "code",
   "execution_count": 175,
   "id": "b247e4ee",
   "metadata": {},
   "outputs": [],
   "source": [
    "e = str_obj.split('j')  # ommits the specified character"
   ]
  },
  {
   "cell_type": "code",
   "execution_count": 176,
   "id": "60d92221",
   "metadata": {},
   "outputs": [
    {
     "data": {
      "text/plain": [
       "['aesbhfwkqfhw', 'flKDFQWL', 'rpkil2wnnhlkiwfkqhrpi23ho']"
      ]
     },
     "execution_count": 176,
     "metadata": {},
     "output_type": "execute_result"
    }
   ],
   "source": [
    "e"
   ]
  },
  {
   "cell_type": "code",
   "execution_count": 177,
   "id": "050d9864",
   "metadata": {},
   "outputs": [
    {
     "data": {
      "text/plain": [
       "'rpkil2wnnhlkiwfkqhrpi23ho'"
      ]
     },
     "execution_count": 177,
     "metadata": {},
     "output_type": "execute_result"
    }
   ],
   "source": [
    "e[-1]"
   ]
  },
  {
   "cell_type": "code",
   "execution_count": 178,
   "id": "4705c427",
   "metadata": {},
   "outputs": [
    {
     "data": {
      "text/plain": [
       "('aesbhfwkqfhw', 'j', 'flKDFQWLjrpkil2wnnhlkiwfkqhrpi23ho')"
      ]
     },
     "execution_count": 178,
     "metadata": {},
     "output_type": "execute_result"
    }
   ],
   "source": [
    "str_obj.partition('j') # includes the specified character as well"
   ]
  },
  {
   "cell_type": "code",
   "execution_count": 179,
   "id": "34b23848",
   "metadata": {},
   "outputs": [],
   "source": [
    "text = \"INDIA IS MY COUNTRY\""
   ]
  },
  {
   "cell_type": "code",
   "execution_count": 180,
   "id": "97b8a49f",
   "metadata": {},
   "outputs": [
    {
     "data": {
      "text/plain": [
       "'***************INDIA IS MY COUNTRY****************'"
      ]
     },
     "execution_count": 180,
     "metadata": {},
     "output_type": "execute_result"
    }
   ],
   "source": [
    "text.center(50,'*')"
   ]
  },
  {
   "cell_type": "code",
   "execution_count": 181,
   "id": "a3bf46fd",
   "metadata": {},
   "outputs": [
    {
     "data": {
      "text/plain": [
       "'YRTNUOC YM SI AIDNI'"
      ]
     },
     "execution_count": 181,
     "metadata": {},
     "output_type": "execute_result"
    }
   ],
   "source": [
    "text[::-1]"
   ]
  },
  {
   "cell_type": "code",
   "execution_count": 182,
   "id": "43ab837f",
   "metadata": {},
   "outputs": [
    {
     "name": "stdout",
     "output_type": "stream",
     "text": [
      "Please input your namefurqaan shafi\n"
     ]
    }
   ],
   "source": [
    "var = input('Please input your name')"
   ]
  },
  {
   "cell_type": "code",
   "execution_count": 183,
   "id": "985c8a25",
   "metadata": {},
   "outputs": [
    {
     "data": {
      "text/plain": [
       "'My name is furqaan shafi'"
      ]
     },
     "execution_count": 183,
     "metadata": {},
     "output_type": "execute_result"
    }
   ],
   "source": [
    "'My name is {}'.format(var)"
   ]
  },
  {
   "cell_type": "code",
   "execution_count": 184,
   "id": "31dc01f4",
   "metadata": {},
   "outputs": [
    {
     "name": "stdout",
     "output_type": "stream",
     "text": [
      "My name is  furqaan shafi\n"
     ]
    }
   ],
   "source": [
    "print(\"My name is \", var)"
   ]
  },
  {
   "cell_type": "code",
   "execution_count": 185,
   "id": "f180e0b9",
   "metadata": {},
   "outputs": [],
   "source": [
    "list_num = [24,45,67,32,67,90]\n"
   ]
  },
  {
   "cell_type": "code",
   "execution_count": 187,
   "id": "80e8bad1",
   "metadata": {},
   "outputs": [
    {
     "data": {
      "text/plain": [
       "[48, 90, 134, 64, 134, 180]"
      ]
     },
     "execution_count": 187,
     "metadata": {},
     "output_type": "execute_result"
    }
   ],
   "source": [
    "[i * 2 for i in list_num]   # list comprehension"
   ]
  },
  {
   "cell_type": "code",
   "execution_count": null,
   "id": "1df2dfb0",
   "metadata": {},
   "outputs": [],
   "source": []
  }
 ],
 "metadata": {
  "kernelspec": {
   "display_name": "Python 3 (ipykernel)",
   "language": "python",
   "name": "python3"
  },
  "language_info": {
   "codemirror_mode": {
    "name": "ipython",
    "version": 3
   },
   "file_extension": ".py",
   "mimetype": "text/x-python",
   "name": "python",
   "nbconvert_exporter": "python",
   "pygments_lexer": "ipython3",
   "version": "3.9.13"
  }
 },
 "nbformat": 4,
 "nbformat_minor": 5
}
